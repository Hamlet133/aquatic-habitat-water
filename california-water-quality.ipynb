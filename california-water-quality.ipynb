{
 "cells": [
  {
   "cell_type": "markdown",
   "id": "4a27e1dc",
   "metadata": {},
   "source": [
    "# Finding an Appropriate Environment for Aquatic Life Forms"
   ]
  },
  {
   "cell_type": "markdown",
   "id": "69f3d0ac",
   "metadata": {},
   "source": [
    ">CalCOFI conducts quarterly cruises off southern & central California, collecting a suite of hydrographic and biological data on station and underway. Data collected at depths down to 500 m include: temperature, salinity, oxygen, phosphate, silicate, nitrate and nitrite, chlorophyll, transmissometer, PAR, C14 primary productivity, phytoplankton biodiversity, zooplankton biomass, and zooplankton biodiversity.\n",
    ">\n",
    ">[Dataset at Kaggle](https://www.kaggle.com/sohier/calcofi \"https://www.kaggle.com/sohier/calcofi\"),\n",
    ">[Column Description (1)](http://www.sarasota.wateratlas.usf.edu/library/learn-more/learnmore.aspx?toolsection=lm_dissolvedox \"http://www.sarasota.wateratlas.usf.edu/library/learn-more/learnmore.aspx?toolsection=lm_dissolvedox\"),\n",
    ">[Column Description (2)]( https://new.data.calcofi.org/index.php/database/calcofi-database/cast-table-column-descriptions \" https://new.data.calcofi.org/index.php/database/calcofi-database/cast-table-column-descriptions\")"
   ]
  },
  {
   "cell_type": "markdown",
   "id": "b19f7f6e",
   "metadata": {},
   "source": [
    "Salinity is a great predictor of preffered environment for all kinds of life forms as it impacts their vital life funcions. The issue is a measuring unit in the dataset, incongruent with google's matches for animal's salinity preference. Can I overcome that?"
   ]
  },
  {
   "cell_type": "markdown",
   "id": "80bc17c7",
   "metadata": {},
   "source": [
    "##  Libraries and Housekeeping"
   ]
  },
  {
   "cell_type": "markdown",
   "id": "1447c832",
   "metadata": {},
   "source": [
    "Importing libraries, supressing errors, and other miscallenous processes"
   ]
  },
  {
   "cell_type": "code",
   "execution_count": 110,
   "id": "2a2e4030",
   "metadata": {},
   "outputs": [
    {
     "data": {
      "text/html": [
       "<script>\n",
       "code_show_err=false; \n",
       "function code_toggle_err() {\n",
       " if (code_show_err){\n",
       " $('div.output_stderr').hide();\n",
       " } else {\n",
       " $('div.output_stderr').show();\n",
       " }\n",
       " code_show_err = !code_show_err\n",
       "} \n",
       "$( document ).ready(code_toggle_err);\n",
       "</script>\n",
       "To toggle on/off output_stderr, click <a href=\"javascript:code_toggle_err()\">here</a>."
      ],
      "text/plain": [
       "<IPython.core.display.HTML object>"
      ]
     },
     "execution_count": 110,
     "metadata": {},
     "output_type": "execute_result"
    }
   ],
   "source": [
    "from IPython.display import HTML\n",
    "HTML('''<script>\n",
    "code_show_err=false; \n",
    "function code_toggle_err() {\n",
    " if (code_show_err){\n",
    " $('div.output_stderr').hide();\n",
    " } else {\n",
    " $('div.output_stderr').show();\n",
    " }\n",
    " code_show_err = !code_show_err\n",
    "} \n",
    "$( document ).ready(code_toggle_err);\n",
    "</script>\n",
    "To toggle on/off output_stderr, click <a href=\"javascript:code_toggle_err()\">here</a>.''')"
   ]
  },
  {
   "cell_type": "code",
   "execution_count": 306,
   "id": "1907ce02",
   "metadata": {},
   "outputs": [],
   "source": [
    "import pandas as pd\n",
    "from sklearn.model_selection import train_test_split\n",
    "import numpy as np\n",
    "import statsmodels.formula.api as smf\n",
    "import seaborn as sns\n",
    "import matplotlib.pyplot as plt\n",
    "from sklearn.linear_model import LinearRegression\n",
    "from sklearn.metrics import mean_squared_error\n",
    "from sklearn.impute import KNNImputer\n",
    "from sklearn.experimental import enable_iterative_imputer\n",
    "from sklearn.impute import IterativeImputer\n",
    "from sklearn import linear_model\n",
    "from sklearn.linear_model import BayesianRidge\n",
    "from sklearn.preprocessing import StandardScaler\n",
    "from sklearn.preprocessing import QuantileTransformer\n",
    "from sklearn.model_selection import cross_val_score\n",
    "from sklearn.tree import DecisionTreeRegressor\n",
    "from sklearn.ensemble import RandomForestRegressor\n",
    "from sklearn.model_selection import GridSearchCV\n",
    "from sklearn.externals import joblib\n",
    "from yellowbrick.model_selection import FeatureImportances\n",
    "from yellowbrick.regressor import ResidualsPlot\n",
    "from yellowbrick.regressor import PredictionError"
   ]
  },
  {
   "cell_type": "code",
   "execution_count": 112,
   "id": "6f319a9b",
   "metadata": {},
   "outputs": [],
   "source": [
    "pd.set_option('display.max_columns', 100)"
   ]
  },
  {
   "cell_type": "markdown",
   "id": "9771a1da",
   "metadata": {},
   "source": [
    "## Loading and inspecting the data"
   ]
  },
  {
   "cell_type": "code",
   "execution_count": 113,
   "id": "b8573b71",
   "metadata": {},
   "outputs": [],
   "source": [
    "water = pd.read_csv(r\"C:\\Users\\Henryk-Mariusz\\Desktop\\Spyder Scripts\\datasets\\CalCOFI water\\bottle.csv\",\n",
    "                    low_memory=False)"
   ]
  },
  {
   "cell_type": "code",
   "execution_count": 114,
   "id": "6a4f4ec7",
   "metadata": {},
   "outputs": [
    {
     "data": {
      "text/html": [
       "<div>\n",
       "<style scoped>\n",
       "    .dataframe tbody tr th:only-of-type {\n",
       "        vertical-align: middle;\n",
       "    }\n",
       "\n",
       "    .dataframe tbody tr th {\n",
       "        vertical-align: top;\n",
       "    }\n",
       "\n",
       "    .dataframe thead th {\n",
       "        text-align: right;\n",
       "    }\n",
       "</style>\n",
       "<table border=\"1\" class=\"dataframe\">\n",
       "  <thead>\n",
       "    <tr style=\"text-align: right;\">\n",
       "      <th></th>\n",
       "      <th>Cst_Cnt</th>\n",
       "      <th>Btl_Cnt</th>\n",
       "      <th>Depthm</th>\n",
       "      <th>T_degC</th>\n",
       "      <th>Salnty</th>\n",
       "      <th>O2ml_L</th>\n",
       "      <th>STheta</th>\n",
       "      <th>O2Sat</th>\n",
       "      <th>Oxy_µmol/Kg</th>\n",
       "      <th>BtlNum</th>\n",
       "      <th>RecInd</th>\n",
       "      <th>T_prec</th>\n",
       "      <th>T_qual</th>\n",
       "      <th>S_prec</th>\n",
       "      <th>S_qual</th>\n",
       "      <th>P_qual</th>\n",
       "      <th>O_qual</th>\n",
       "      <th>SThtaq</th>\n",
       "      <th>O2Satq</th>\n",
       "      <th>ChlorA</th>\n",
       "      <th>Chlqua</th>\n",
       "      <th>Phaeop</th>\n",
       "      <th>Phaqua</th>\n",
       "      <th>PO4uM</th>\n",
       "      <th>PO4q</th>\n",
       "      <th>SiO3uM</th>\n",
       "      <th>SiO3qu</th>\n",
       "      <th>NO2uM</th>\n",
       "      <th>NO2q</th>\n",
       "      <th>NO3uM</th>\n",
       "      <th>NO3q</th>\n",
       "      <th>NH3uM</th>\n",
       "      <th>NH3q</th>\n",
       "      <th>C14As1</th>\n",
       "      <th>C14A1p</th>\n",
       "      <th>C14A1q</th>\n",
       "      <th>C14As2</th>\n",
       "      <th>C14A2p</th>\n",
       "      <th>C14A2q</th>\n",
       "      <th>DarkAs</th>\n",
       "      <th>DarkAp</th>\n",
       "      <th>DarkAq</th>\n",
       "      <th>MeanAs</th>\n",
       "      <th>MeanAp</th>\n",
       "      <th>MeanAq</th>\n",
       "      <th>LightP</th>\n",
       "      <th>R_Depth</th>\n",
       "      <th>R_TEMP</th>\n",
       "      <th>R_POTEMP</th>\n",
       "      <th>R_SALINITY</th>\n",
       "      <th>R_SIGMA</th>\n",
       "      <th>R_SVA</th>\n",
       "      <th>R_DYNHT</th>\n",
       "      <th>R_O2</th>\n",
       "      <th>R_O2Sat</th>\n",
       "      <th>R_SIO3</th>\n",
       "      <th>R_PO4</th>\n",
       "      <th>R_NO3</th>\n",
       "      <th>R_NO2</th>\n",
       "      <th>R_NH4</th>\n",
       "      <th>R_CHLA</th>\n",
       "      <th>R_PHAEO</th>\n",
       "      <th>R_PRES</th>\n",
       "      <th>R_SAMP</th>\n",
       "      <th>DIC1</th>\n",
       "      <th>DIC2</th>\n",
       "      <th>TA1</th>\n",
       "      <th>TA2</th>\n",
       "      <th>pH2</th>\n",
       "      <th>pH1</th>\n",
       "    </tr>\n",
       "  </thead>\n",
       "  <tbody>\n",
       "    <tr>\n",
       "      <th>count</th>\n",
       "      <td>864863.000000</td>\n",
       "      <td>864863.000000</td>\n",
       "      <td>864863.000000</td>\n",
       "      <td>853900.000000</td>\n",
       "      <td>817509.000000</td>\n",
       "      <td>696201.000000</td>\n",
       "      <td>812174.000000</td>\n",
       "      <td>661274.000000</td>\n",
       "      <td>661268.000000</td>\n",
       "      <td>118667.000000</td>\n",
       "      <td>864863.000000</td>\n",
       "      <td>853900.000000</td>\n",
       "      <td>23127.000000</td>\n",
       "      <td>817509.000000</td>\n",
       "      <td>74914.000000</td>\n",
       "      <td>673755.000000</td>\n",
       "      <td>184676.000000</td>\n",
       "      <td>65823.00000</td>\n",
       "      <td>217797.000000</td>\n",
       "      <td>225272.000000</td>\n",
       "      <td>639166.000000</td>\n",
       "      <td>225271.000000</td>\n",
       "      <td>639170.000000</td>\n",
       "      <td>413317.000000</td>\n",
       "      <td>451786.000000</td>\n",
       "      <td>354091.000000</td>\n",
       "      <td>510866.000000</td>\n",
       "      <td>337576.000000</td>\n",
       "      <td>529474.000000</td>\n",
       "      <td>337403.000000</td>\n",
       "      <td>529933.000000</td>\n",
       "      <td>64962.000000</td>\n",
       "      <td>808299.000000</td>\n",
       "      <td>14432.000000</td>\n",
       "      <td>12760.000000</td>\n",
       "      <td>848605.000000</td>\n",
       "      <td>14414.000000</td>\n",
       "      <td>12742.000000</td>\n",
       "      <td>848623.000000</td>\n",
       "      <td>22649.000000</td>\n",
       "      <td>20457.000000</td>\n",
       "      <td>840440.000000</td>\n",
       "      <td>22650.000000</td>\n",
       "      <td>20457.000000</td>\n",
       "      <td>840439.000000</td>\n",
       "      <td>18651.000000</td>\n",
       "      <td>864863.000000</td>\n",
       "      <td>853900.000000</td>\n",
       "      <td>818816.000000</td>\n",
       "      <td>817509.000000</td>\n",
       "      <td>812007.000000</td>\n",
       "      <td>812092.000000</td>\n",
       "      <td>818206.000000</td>\n",
       "      <td>696201.000000</td>\n",
       "      <td>666448.000000</td>\n",
       "      <td>354099.000000</td>\n",
       "      <td>413325.000000</td>\n",
       "      <td>337411.000000</td>\n",
       "      <td>337584.000000</td>\n",
       "      <td>64982.000000</td>\n",
       "      <td>225276.000000</td>\n",
       "      <td>225275.000000</td>\n",
       "      <td>864863.000000</td>\n",
       "      <td>122006.000000</td>\n",
       "      <td>1999.000000</td>\n",
       "      <td>224.000000</td>\n",
       "      <td>2084.000000</td>\n",
       "      <td>234.000000</td>\n",
       "      <td>10.000000</td>\n",
       "      <td>84.000000</td>\n",
       "    </tr>\n",
       "    <tr>\n",
       "      <th>mean</th>\n",
       "      <td>17138.790958</td>\n",
       "      <td>432432.000000</td>\n",
       "      <td>226.831951</td>\n",
       "      <td>10.799677</td>\n",
       "      <td>33.840350</td>\n",
       "      <td>3.392468</td>\n",
       "      <td>25.819394</td>\n",
       "      <td>57.103779</td>\n",
       "      <td>148.808694</td>\n",
       "      <td>10.497426</td>\n",
       "      <td>4.700273</td>\n",
       "      <td>2.017148</td>\n",
       "      <td>7.471829</td>\n",
       "      <td>2.716787</td>\n",
       "      <td>7.945057</td>\n",
       "      <td>8.999996</td>\n",
       "      <td>8.755615</td>\n",
       "      <td>8.46701</td>\n",
       "      <td>8.793487</td>\n",
       "      <td>0.450185</td>\n",
       "      <td>8.999848</td>\n",
       "      <td>0.198553</td>\n",
       "      <td>8.999844</td>\n",
       "      <td>1.564747</td>\n",
       "      <td>8.999320</td>\n",
       "      <td>26.606587</td>\n",
       "      <td>8.999687</td>\n",
       "      <td>0.042316</td>\n",
       "      <td>8.995458</td>\n",
       "      <td>17.302247</td>\n",
       "      <td>8.993122</td>\n",
       "      <td>0.084877</td>\n",
       "      <td>8.947668</td>\n",
       "      <td>9.757704</td>\n",
       "      <td>1.266928</td>\n",
       "      <td>8.999992</td>\n",
       "      <td>9.762613</td>\n",
       "      <td>1.267776</td>\n",
       "      <td>8.999992</td>\n",
       "      <td>0.155295</td>\n",
       "      <td>1.993450</td>\n",
       "      <td>8.999992</td>\n",
       "      <td>8.393530</td>\n",
       "      <td>1.256587</td>\n",
       "      <td>8.999992</td>\n",
       "      <td>18.356509</td>\n",
       "      <td>226.832495</td>\n",
       "      <td>10.799697</td>\n",
       "      <td>10.842295</td>\n",
       "      <td>33.840295</td>\n",
       "      <td>25.811010</td>\n",
       "      <td>220.938918</td>\n",
       "      <td>0.431763</td>\n",
       "      <td>3.392498</td>\n",
       "      <td>57.192940</td>\n",
       "      <td>26.606862</td>\n",
       "      <td>1.564736</td>\n",
       "      <td>17.302188</td>\n",
       "      <td>0.042336</td>\n",
       "      <td>0.084851</td>\n",
       "      <td>0.450225</td>\n",
       "      <td>0.198599</td>\n",
       "      <td>228.395694</td>\n",
       "      <td>162.071521</td>\n",
       "      <td>2153.239714</td>\n",
       "      <td>2168.148330</td>\n",
       "      <td>2256.055845</td>\n",
       "      <td>2278.858803</td>\n",
       "      <td>7.948570</td>\n",
       "      <td>7.910983</td>\n",
       "    </tr>\n",
       "    <tr>\n",
       "      <th>std</th>\n",
       "      <td>10240.949817</td>\n",
       "      <td>249664.587267</td>\n",
       "      <td>316.050259</td>\n",
       "      <td>4.243825</td>\n",
       "      <td>0.461843</td>\n",
       "      <td>2.073256</td>\n",
       "      <td>1.167787</td>\n",
       "      <td>37.094137</td>\n",
       "      <td>90.187533</td>\n",
       "      <td>6.189688</td>\n",
       "      <td>1.877428</td>\n",
       "      <td>0.148498</td>\n",
       "      <td>1.483097</td>\n",
       "      <td>0.450559</td>\n",
       "      <td>1.415355</td>\n",
       "      <td>0.003655</td>\n",
       "      <td>0.810973</td>\n",
       "      <td>1.11778</td>\n",
       "      <td>0.892111</td>\n",
       "      <td>1.208570</td>\n",
       "      <td>0.012318</td>\n",
       "      <td>0.376543</td>\n",
       "      <td>0.012507</td>\n",
       "      <td>1.035966</td>\n",
       "      <td>0.026895</td>\n",
       "      <td>27.648190</td>\n",
       "      <td>0.018768</td>\n",
       "      <td>0.104196</td>\n",
       "      <td>0.077426</td>\n",
       "      <td>14.581958</td>\n",
       "      <td>0.131516</td>\n",
       "      <td>0.273061</td>\n",
       "      <td>0.508844</td>\n",
       "      <td>23.983492</td>\n",
       "      <td>0.442372</td>\n",
       "      <td>0.002872</td>\n",
       "      <td>25.064529</td>\n",
       "      <td>0.442817</td>\n",
       "      <td>0.002872</td>\n",
       "      <td>0.224953</td>\n",
       "      <td>0.080671</td>\n",
       "      <td>0.002886</td>\n",
       "      <td>21.516374</td>\n",
       "      <td>0.436760</td>\n",
       "      <td>0.002886</td>\n",
       "      <td>29.852839</td>\n",
       "      <td>316.050007</td>\n",
       "      <td>4.243829</td>\n",
       "      <td>4.236435</td>\n",
       "      <td>0.462978</td>\n",
       "      <td>1.124645</td>\n",
       "      <td>93.483703</td>\n",
       "      <td>0.382336</td>\n",
       "      <td>2.073271</td>\n",
       "      <td>37.060537</td>\n",
       "      <td>27.648403</td>\n",
       "      <td>1.035973</td>\n",
       "      <td>14.581998</td>\n",
       "      <td>0.104201</td>\n",
       "      <td>0.273022</td>\n",
       "      <td>1.208566</td>\n",
       "      <td>0.376539</td>\n",
       "      <td>319.456731</td>\n",
       "      <td>85.722796</td>\n",
       "      <td>112.995202</td>\n",
       "      <td>154.852332</td>\n",
       "      <td>34.844435</td>\n",
       "      <td>58.496495</td>\n",
       "      <td>0.021216</td>\n",
       "      <td>0.077666</td>\n",
       "    </tr>\n",
       "    <tr>\n",
       "      <th>min</th>\n",
       "      <td>1.000000</td>\n",
       "      <td>1.000000</td>\n",
       "      <td>0.000000</td>\n",
       "      <td>1.440000</td>\n",
       "      <td>28.431000</td>\n",
       "      <td>-0.010000</td>\n",
       "      <td>20.934000</td>\n",
       "      <td>-0.100000</td>\n",
       "      <td>-0.434900</td>\n",
       "      <td>0.000000</td>\n",
       "      <td>3.000000</td>\n",
       "      <td>1.000000</td>\n",
       "      <td>6.000000</td>\n",
       "      <td>2.000000</td>\n",
       "      <td>6.000000</td>\n",
       "      <td>6.000000</td>\n",
       "      <td>6.000000</td>\n",
       "      <td>6.00000</td>\n",
       "      <td>2.000000</td>\n",
       "      <td>-0.001000</td>\n",
       "      <td>8.000000</td>\n",
       "      <td>-3.890000</td>\n",
       "      <td>8.000000</td>\n",
       "      <td>0.000000</td>\n",
       "      <td>4.000000</td>\n",
       "      <td>0.000000</td>\n",
       "      <td>4.000000</td>\n",
       "      <td>0.000000</td>\n",
       "      <td>4.000000</td>\n",
       "      <td>-0.400000</td>\n",
       "      <td>4.000000</td>\n",
       "      <td>0.000000</td>\n",
       "      <td>4.000000</td>\n",
       "      <td>-0.240000</td>\n",
       "      <td>1.000000</td>\n",
       "      <td>8.000000</td>\n",
       "      <td>-0.200000</td>\n",
       "      <td>1.000000</td>\n",
       "      <td>8.000000</td>\n",
       "      <td>-0.010000</td>\n",
       "      <td>1.000000</td>\n",
       "      <td>8.000000</td>\n",
       "      <td>-0.220000</td>\n",
       "      <td>1.000000</td>\n",
       "      <td>8.000000</td>\n",
       "      <td>0.000000</td>\n",
       "      <td>0.000000</td>\n",
       "      <td>1.440000</td>\n",
       "      <td>0.000000</td>\n",
       "      <td>4.570000</td>\n",
       "      <td>20.934000</td>\n",
       "      <td>0.400000</td>\n",
       "      <td>0.000000</td>\n",
       "      <td>-0.010000</td>\n",
       "      <td>-0.100000</td>\n",
       "      <td>0.000000</td>\n",
       "      <td>0.000000</td>\n",
       "      <td>-0.400000</td>\n",
       "      <td>0.000000</td>\n",
       "      <td>0.000000</td>\n",
       "      <td>-0.010000</td>\n",
       "      <td>-3.890000</td>\n",
       "      <td>0.000000</td>\n",
       "      <td>0.000000</td>\n",
       "      <td>1948.850000</td>\n",
       "      <td>1969.440000</td>\n",
       "      <td>2181.570000</td>\n",
       "      <td>2198.150000</td>\n",
       "      <td>7.923100</td>\n",
       "      <td>7.618300</td>\n",
       "    </tr>\n",
       "    <tr>\n",
       "      <th>25%</th>\n",
       "      <td>8269.000000</td>\n",
       "      <td>216216.500000</td>\n",
       "      <td>46.000000</td>\n",
       "      <td>7.680000</td>\n",
       "      <td>33.488000</td>\n",
       "      <td>1.360000</td>\n",
       "      <td>24.965000</td>\n",
       "      <td>21.100000</td>\n",
       "      <td>60.915470</td>\n",
       "      <td>5.000000</td>\n",
       "      <td>3.000000</td>\n",
       "      <td>2.000000</td>\n",
       "      <td>6.000000</td>\n",
       "      <td>2.000000</td>\n",
       "      <td>6.000000</td>\n",
       "      <td>9.000000</td>\n",
       "      <td>9.000000</td>\n",
       "      <td>9.00000</td>\n",
       "      <td>9.000000</td>\n",
       "      <td>0.050000</td>\n",
       "      <td>9.000000</td>\n",
       "      <td>0.050000</td>\n",
       "      <td>9.000000</td>\n",
       "      <td>0.470000</td>\n",
       "      <td>9.000000</td>\n",
       "      <td>3.110000</td>\n",
       "      <td>9.000000</td>\n",
       "      <td>0.000000</td>\n",
       "      <td>9.000000</td>\n",
       "      <td>0.600000</td>\n",
       "      <td>9.000000</td>\n",
       "      <td>0.000000</td>\n",
       "      <td>9.000000</td>\n",
       "      <td>0.930000</td>\n",
       "      <td>1.000000</td>\n",
       "      <td>9.000000</td>\n",
       "      <td>0.930000</td>\n",
       "      <td>1.000000</td>\n",
       "      <td>9.000000</td>\n",
       "      <td>0.060000</td>\n",
       "      <td>2.000000</td>\n",
       "      <td>9.000000</td>\n",
       "      <td>0.980000</td>\n",
       "      <td>1.000000</td>\n",
       "      <td>9.000000</td>\n",
       "      <td>0.280000</td>\n",
       "      <td>46.000000</td>\n",
       "      <td>7.680000</td>\n",
       "      <td>7.740000</td>\n",
       "      <td>33.488000</td>\n",
       "      <td>24.960000</td>\n",
       "      <td>143.700000</td>\n",
       "      <td>0.130000</td>\n",
       "      <td>1.360000</td>\n",
       "      <td>21.200000</td>\n",
       "      <td>3.100000</td>\n",
       "      <td>0.470000</td>\n",
       "      <td>0.600000</td>\n",
       "      <td>0.000000</td>\n",
       "      <td>0.000000</td>\n",
       "      <td>0.050000</td>\n",
       "      <td>0.050000</td>\n",
       "      <td>46.000000</td>\n",
       "      <td>200.000000</td>\n",
       "      <td>2028.330000</td>\n",
       "      <td>2008.977500</td>\n",
       "      <td>2230.322500</td>\n",
       "      <td>2229.062500</td>\n",
       "      <td>7.931475</td>\n",
       "      <td>7.898675</td>\n",
       "    </tr>\n",
       "    <tr>\n",
       "      <th>50%</th>\n",
       "      <td>16848.000000</td>\n",
       "      <td>432432.000000</td>\n",
       "      <td>125.000000</td>\n",
       "      <td>10.060000</td>\n",
       "      <td>33.863000</td>\n",
       "      <td>3.440000</td>\n",
       "      <td>25.996000</td>\n",
       "      <td>54.400000</td>\n",
       "      <td>151.064150</td>\n",
       "      <td>10.000000</td>\n",
       "      <td>3.000000</td>\n",
       "      <td>2.000000</td>\n",
       "      <td>6.000000</td>\n",
       "      <td>3.000000</td>\n",
       "      <td>9.000000</td>\n",
       "      <td>9.000000</td>\n",
       "      <td>9.000000</td>\n",
       "      <td>9.00000</td>\n",
       "      <td>9.000000</td>\n",
       "      <td>0.160000</td>\n",
       "      <td>9.000000</td>\n",
       "      <td>0.110000</td>\n",
       "      <td>9.000000</td>\n",
       "      <td>1.570000</td>\n",
       "      <td>9.000000</td>\n",
       "      <td>18.000000</td>\n",
       "      <td>9.000000</td>\n",
       "      <td>0.010000</td>\n",
       "      <td>9.000000</td>\n",
       "      <td>18.100000</td>\n",
       "      <td>9.000000</td>\n",
       "      <td>0.000000</td>\n",
       "      <td>9.000000</td>\n",
       "      <td>2.600000</td>\n",
       "      <td>1.000000</td>\n",
       "      <td>9.000000</td>\n",
       "      <td>2.600000</td>\n",
       "      <td>1.000000</td>\n",
       "      <td>9.000000</td>\n",
       "      <td>0.100000</td>\n",
       "      <td>2.000000</td>\n",
       "      <td>9.000000</td>\n",
       "      <td>2.500000</td>\n",
       "      <td>1.000000</td>\n",
       "      <td>9.000000</td>\n",
       "      <td>1.800000</td>\n",
       "      <td>125.000000</td>\n",
       "      <td>10.060000</td>\n",
       "      <td>10.100000</td>\n",
       "      <td>33.863000</td>\n",
       "      <td>25.990000</td>\n",
       "      <td>203.200000</td>\n",
       "      <td>0.340000</td>\n",
       "      <td>3.440000</td>\n",
       "      <td>54.500000</td>\n",
       "      <td>18.000000</td>\n",
       "      <td>1.570000</td>\n",
       "      <td>18.100000</td>\n",
       "      <td>0.010000</td>\n",
       "      <td>0.000000</td>\n",
       "      <td>0.160000</td>\n",
       "      <td>0.110000</td>\n",
       "      <td>126.000000</td>\n",
       "      <td>206.000000</td>\n",
       "      <td>2170.640000</td>\n",
       "      <td>2265.885000</td>\n",
       "      <td>2244.325000</td>\n",
       "      <td>2247.505000</td>\n",
       "      <td>7.946650</td>\n",
       "      <td>7.928850</td>\n",
       "    </tr>\n",
       "    <tr>\n",
       "      <th>75%</th>\n",
       "      <td>26557.000000</td>\n",
       "      <td>648647.500000</td>\n",
       "      <td>300.000000</td>\n",
       "      <td>13.880000</td>\n",
       "      <td>34.196900</td>\n",
       "      <td>5.500000</td>\n",
       "      <td>26.646000</td>\n",
       "      <td>97.600000</td>\n",
       "      <td>240.379600</td>\n",
       "      <td>16.000000</td>\n",
       "      <td>7.000000</td>\n",
       "      <td>2.000000</td>\n",
       "      <td>9.000000</td>\n",
       "      <td>3.000000</td>\n",
       "      <td>9.000000</td>\n",
       "      <td>9.000000</td>\n",
       "      <td>9.000000</td>\n",
       "      <td>9.00000</td>\n",
       "      <td>9.000000</td>\n",
       "      <td>0.390000</td>\n",
       "      <td>9.000000</td>\n",
       "      <td>0.230000</td>\n",
       "      <td>9.000000</td>\n",
       "      <td>2.480000</td>\n",
       "      <td>9.000000</td>\n",
       "      <td>41.540000</td>\n",
       "      <td>9.000000</td>\n",
       "      <td>0.030000</td>\n",
       "      <td>9.000000</td>\n",
       "      <td>30.000000</td>\n",
       "      <td>9.000000</td>\n",
       "      <td>0.060000</td>\n",
       "      <td>9.000000</td>\n",
       "      <td>8.000000</td>\n",
       "      <td>2.000000</td>\n",
       "      <td>9.000000</td>\n",
       "      <td>8.056500</td>\n",
       "      <td>2.000000</td>\n",
       "      <td>9.000000</td>\n",
       "      <td>0.174000</td>\n",
       "      <td>2.000000</td>\n",
       "      <td>9.000000</td>\n",
       "      <td>7.000000</td>\n",
       "      <td>2.000000</td>\n",
       "      <td>9.000000</td>\n",
       "      <td>24.000000</td>\n",
       "      <td>300.000000</td>\n",
       "      <td>13.880000</td>\n",
       "      <td>13.920000</td>\n",
       "      <td>34.196000</td>\n",
       "      <td>26.640000</td>\n",
       "      <td>299.800000</td>\n",
       "      <td>0.640000</td>\n",
       "      <td>5.500000</td>\n",
       "      <td>97.600000</td>\n",
       "      <td>41.500000</td>\n",
       "      <td>2.480000</td>\n",
       "      <td>30.000000</td>\n",
       "      <td>0.030000</td>\n",
       "      <td>0.060000</td>\n",
       "      <td>0.390000</td>\n",
       "      <td>0.230000</td>\n",
       "      <td>302.000000</td>\n",
       "      <td>214.000000</td>\n",
       "      <td>2253.810000</td>\n",
       "      <td>2315.525000</td>\n",
       "      <td>2278.505000</td>\n",
       "      <td>2316.452500</td>\n",
       "      <td>7.963300</td>\n",
       "      <td>7.955100</td>\n",
       "    </tr>\n",
       "    <tr>\n",
       "      <th>max</th>\n",
       "      <td>34404.000000</td>\n",
       "      <td>864863.000000</td>\n",
       "      <td>5351.000000</td>\n",
       "      <td>31.140000</td>\n",
       "      <td>37.034000</td>\n",
       "      <td>11.130000</td>\n",
       "      <td>250.784000</td>\n",
       "      <td>214.100000</td>\n",
       "      <td>485.701800</td>\n",
       "      <td>25.000000</td>\n",
       "      <td>7.000000</td>\n",
       "      <td>3.000000</td>\n",
       "      <td>9.000000</td>\n",
       "      <td>3.000000</td>\n",
       "      <td>9.000000</td>\n",
       "      <td>9.000000</td>\n",
       "      <td>9.000000</td>\n",
       "      <td>9.00000</td>\n",
       "      <td>9.000000</td>\n",
       "      <td>66.110000</td>\n",
       "      <td>9.000000</td>\n",
       "      <td>65.300000</td>\n",
       "      <td>9.000000</td>\n",
       "      <td>5.210000</td>\n",
       "      <td>9.000000</td>\n",
       "      <td>196.000000</td>\n",
       "      <td>9.000000</td>\n",
       "      <td>8.190000</td>\n",
       "      <td>9.000000</td>\n",
       "      <td>95.000000</td>\n",
       "      <td>9.000000</td>\n",
       "      <td>15.630000</td>\n",
       "      <td>9.000000</td>\n",
       "      <td>584.500000</td>\n",
       "      <td>2.000000</td>\n",
       "      <td>9.000000</td>\n",
       "      <td>948.300000</td>\n",
       "      <td>2.000000</td>\n",
       "      <td>9.000000</td>\n",
       "      <td>6.900000</td>\n",
       "      <td>2.000000</td>\n",
       "      <td>9.000000</td>\n",
       "      <td>948.300000</td>\n",
       "      <td>2.000000</td>\n",
       "      <td>9.000000</td>\n",
       "      <td>99.900000</td>\n",
       "      <td>5351.000000</td>\n",
       "      <td>31.140000</td>\n",
       "      <td>31.140000</td>\n",
       "      <td>37.034000</td>\n",
       "      <td>250.784000</td>\n",
       "      <td>683.400000</td>\n",
       "      <td>3.880000</td>\n",
       "      <td>11.130000</td>\n",
       "      <td>214.100000</td>\n",
       "      <td>196.000000</td>\n",
       "      <td>5.210000</td>\n",
       "      <td>95.000000</td>\n",
       "      <td>8.190000</td>\n",
       "      <td>15.630000</td>\n",
       "      <td>66.110000</td>\n",
       "      <td>65.300000</td>\n",
       "      <td>5458.000000</td>\n",
       "      <td>424.000000</td>\n",
       "      <td>2367.800000</td>\n",
       "      <td>2364.420000</td>\n",
       "      <td>2434.900000</td>\n",
       "      <td>2437.000000</td>\n",
       "      <td>7.988300</td>\n",
       "      <td>8.047700</td>\n",
       "    </tr>\n",
       "  </tbody>\n",
       "</table>\n",
       "</div>"
      ],
      "text/plain": [
       "             Cst_Cnt        Btl_Cnt         Depthm         T_degC  \\\n",
       "count  864863.000000  864863.000000  864863.000000  853900.000000   \n",
       "mean    17138.790958  432432.000000     226.831951      10.799677   \n",
       "std     10240.949817  249664.587267     316.050259       4.243825   \n",
       "min         1.000000       1.000000       0.000000       1.440000   \n",
       "25%      8269.000000  216216.500000      46.000000       7.680000   \n",
       "50%     16848.000000  432432.000000     125.000000      10.060000   \n",
       "75%     26557.000000  648647.500000     300.000000      13.880000   \n",
       "max     34404.000000  864863.000000    5351.000000      31.140000   \n",
       "\n",
       "              Salnty         O2ml_L         STheta          O2Sat  \\\n",
       "count  817509.000000  696201.000000  812174.000000  661274.000000   \n",
       "mean       33.840350       3.392468      25.819394      57.103779   \n",
       "std         0.461843       2.073256       1.167787      37.094137   \n",
       "min        28.431000      -0.010000      20.934000      -0.100000   \n",
       "25%        33.488000       1.360000      24.965000      21.100000   \n",
       "50%        33.863000       3.440000      25.996000      54.400000   \n",
       "75%        34.196900       5.500000      26.646000      97.600000   \n",
       "max        37.034000      11.130000     250.784000     214.100000   \n",
       "\n",
       "         Oxy_µmol/Kg         BtlNum         RecInd         T_prec  \\\n",
       "count  661268.000000  118667.000000  864863.000000  853900.000000   \n",
       "mean      148.808694      10.497426       4.700273       2.017148   \n",
       "std        90.187533       6.189688       1.877428       0.148498   \n",
       "min        -0.434900       0.000000       3.000000       1.000000   \n",
       "25%        60.915470       5.000000       3.000000       2.000000   \n",
       "50%       151.064150      10.000000       3.000000       2.000000   \n",
       "75%       240.379600      16.000000       7.000000       2.000000   \n",
       "max       485.701800      25.000000       7.000000       3.000000   \n",
       "\n",
       "             T_qual         S_prec        S_qual         P_qual  \\\n",
       "count  23127.000000  817509.000000  74914.000000  673755.000000   \n",
       "mean       7.471829       2.716787      7.945057       8.999996   \n",
       "std        1.483097       0.450559      1.415355       0.003655   \n",
       "min        6.000000       2.000000      6.000000       6.000000   \n",
       "25%        6.000000       2.000000      6.000000       9.000000   \n",
       "50%        6.000000       3.000000      9.000000       9.000000   \n",
       "75%        9.000000       3.000000      9.000000       9.000000   \n",
       "max        9.000000       3.000000      9.000000       9.000000   \n",
       "\n",
       "              O_qual       SThtaq         O2Satq         ChlorA  \\\n",
       "count  184676.000000  65823.00000  217797.000000  225272.000000   \n",
       "mean        8.755615      8.46701       8.793487       0.450185   \n",
       "std         0.810973      1.11778       0.892111       1.208570   \n",
       "min         6.000000      6.00000       2.000000      -0.001000   \n",
       "25%         9.000000      9.00000       9.000000       0.050000   \n",
       "50%         9.000000      9.00000       9.000000       0.160000   \n",
       "75%         9.000000      9.00000       9.000000       0.390000   \n",
       "max         9.000000      9.00000       9.000000      66.110000   \n",
       "\n",
       "              Chlqua         Phaeop         Phaqua          PO4uM  \\\n",
       "count  639166.000000  225271.000000  639170.000000  413317.000000   \n",
       "mean        8.999848       0.198553       8.999844       1.564747   \n",
       "std         0.012318       0.376543       0.012507       1.035966   \n",
       "min         8.000000      -3.890000       8.000000       0.000000   \n",
       "25%         9.000000       0.050000       9.000000       0.470000   \n",
       "50%         9.000000       0.110000       9.000000       1.570000   \n",
       "75%         9.000000       0.230000       9.000000       2.480000   \n",
       "max         9.000000      65.300000       9.000000       5.210000   \n",
       "\n",
       "                PO4q         SiO3uM         SiO3qu          NO2uM  \\\n",
       "count  451786.000000  354091.000000  510866.000000  337576.000000   \n",
       "mean        8.999320      26.606587       8.999687       0.042316   \n",
       "std         0.026895      27.648190       0.018768       0.104196   \n",
       "min         4.000000       0.000000       4.000000       0.000000   \n",
       "25%         9.000000       3.110000       9.000000       0.000000   \n",
       "50%         9.000000      18.000000       9.000000       0.010000   \n",
       "75%         9.000000      41.540000       9.000000       0.030000   \n",
       "max         9.000000     196.000000       9.000000       8.190000   \n",
       "\n",
       "                NO2q          NO3uM           NO3q         NH3uM  \\\n",
       "count  529474.000000  337403.000000  529933.000000  64962.000000   \n",
       "mean        8.995458      17.302247       8.993122      0.084877   \n",
       "std         0.077426      14.581958       0.131516      0.273061   \n",
       "min         4.000000      -0.400000       4.000000      0.000000   \n",
       "25%         9.000000       0.600000       9.000000      0.000000   \n",
       "50%         9.000000      18.100000       9.000000      0.000000   \n",
       "75%         9.000000      30.000000       9.000000      0.060000   \n",
       "max         9.000000      95.000000       9.000000     15.630000   \n",
       "\n",
       "                NH3q        C14As1        C14A1p         C14A1q        C14As2  \\\n",
       "count  808299.000000  14432.000000  12760.000000  848605.000000  14414.000000   \n",
       "mean        8.947668      9.757704      1.266928       8.999992      9.762613   \n",
       "std         0.508844     23.983492      0.442372       0.002872     25.064529   \n",
       "min         4.000000     -0.240000      1.000000       8.000000     -0.200000   \n",
       "25%         9.000000      0.930000      1.000000       9.000000      0.930000   \n",
       "50%         9.000000      2.600000      1.000000       9.000000      2.600000   \n",
       "75%         9.000000      8.000000      2.000000       9.000000      8.056500   \n",
       "max         9.000000    584.500000      2.000000       9.000000    948.300000   \n",
       "\n",
       "             C14A2p         C14A2q        DarkAs        DarkAp         DarkAq  \\\n",
       "count  12742.000000  848623.000000  22649.000000  20457.000000  840440.000000   \n",
       "mean       1.267776       8.999992      0.155295      1.993450       8.999992   \n",
       "std        0.442817       0.002872      0.224953      0.080671       0.002886   \n",
       "min        1.000000       8.000000     -0.010000      1.000000       8.000000   \n",
       "25%        1.000000       9.000000      0.060000      2.000000       9.000000   \n",
       "50%        1.000000       9.000000      0.100000      2.000000       9.000000   \n",
       "75%        2.000000       9.000000      0.174000      2.000000       9.000000   \n",
       "max        2.000000       9.000000      6.900000      2.000000       9.000000   \n",
       "\n",
       "             MeanAs        MeanAp         MeanAq        LightP        R_Depth  \\\n",
       "count  22650.000000  20457.000000  840439.000000  18651.000000  864863.000000   \n",
       "mean       8.393530      1.256587       8.999992     18.356509     226.832495   \n",
       "std       21.516374      0.436760       0.002886     29.852839     316.050007   \n",
       "min       -0.220000      1.000000       8.000000      0.000000       0.000000   \n",
       "25%        0.980000      1.000000       9.000000      0.280000      46.000000   \n",
       "50%        2.500000      1.000000       9.000000      1.800000     125.000000   \n",
       "75%        7.000000      2.000000       9.000000     24.000000     300.000000   \n",
       "max      948.300000      2.000000       9.000000     99.900000    5351.000000   \n",
       "\n",
       "              R_TEMP       R_POTEMP     R_SALINITY        R_SIGMA  \\\n",
       "count  853900.000000  818816.000000  817509.000000  812007.000000   \n",
       "mean       10.799697      10.842295      33.840295      25.811010   \n",
       "std         4.243829       4.236435       0.462978       1.124645   \n",
       "min         1.440000       0.000000       4.570000      20.934000   \n",
       "25%         7.680000       7.740000      33.488000      24.960000   \n",
       "50%        10.060000      10.100000      33.863000      25.990000   \n",
       "75%        13.880000      13.920000      34.196000      26.640000   \n",
       "max        31.140000      31.140000      37.034000     250.784000   \n",
       "\n",
       "               R_SVA        R_DYNHT           R_O2        R_O2Sat  \\\n",
       "count  812092.000000  818206.000000  696201.000000  666448.000000   \n",
       "mean      220.938918       0.431763       3.392498      57.192940   \n",
       "std        93.483703       0.382336       2.073271      37.060537   \n",
       "min         0.400000       0.000000      -0.010000      -0.100000   \n",
       "25%       143.700000       0.130000       1.360000      21.200000   \n",
       "50%       203.200000       0.340000       3.440000      54.500000   \n",
       "75%       299.800000       0.640000       5.500000      97.600000   \n",
       "max       683.400000       3.880000      11.130000     214.100000   \n",
       "\n",
       "              R_SIO3          R_PO4          R_NO3          R_NO2  \\\n",
       "count  354099.000000  413325.000000  337411.000000  337584.000000   \n",
       "mean       26.606862       1.564736      17.302188       0.042336   \n",
       "std        27.648403       1.035973      14.581998       0.104201   \n",
       "min         0.000000       0.000000      -0.400000       0.000000   \n",
       "25%         3.100000       0.470000       0.600000       0.000000   \n",
       "50%        18.000000       1.570000      18.100000       0.010000   \n",
       "75%        41.500000       2.480000      30.000000       0.030000   \n",
       "max       196.000000       5.210000      95.000000       8.190000   \n",
       "\n",
       "              R_NH4         R_CHLA        R_PHAEO         R_PRES  \\\n",
       "count  64982.000000  225276.000000  225275.000000  864863.000000   \n",
       "mean       0.084851       0.450225       0.198599     228.395694   \n",
       "std        0.273022       1.208566       0.376539     319.456731   \n",
       "min        0.000000      -0.010000      -3.890000       0.000000   \n",
       "25%        0.000000       0.050000       0.050000      46.000000   \n",
       "50%        0.000000       0.160000       0.110000     126.000000   \n",
       "75%        0.060000       0.390000       0.230000     302.000000   \n",
       "max       15.630000      66.110000      65.300000    5458.000000   \n",
       "\n",
       "              R_SAMP         DIC1         DIC2          TA1          TA2  \\\n",
       "count  122006.000000  1999.000000   224.000000  2084.000000   234.000000   \n",
       "mean      162.071521  2153.239714  2168.148330  2256.055845  2278.858803   \n",
       "std        85.722796   112.995202   154.852332    34.844435    58.496495   \n",
       "min         0.000000  1948.850000  1969.440000  2181.570000  2198.150000   \n",
       "25%       200.000000  2028.330000  2008.977500  2230.322500  2229.062500   \n",
       "50%       206.000000  2170.640000  2265.885000  2244.325000  2247.505000   \n",
       "75%       214.000000  2253.810000  2315.525000  2278.505000  2316.452500   \n",
       "max       424.000000  2367.800000  2364.420000  2434.900000  2437.000000   \n",
       "\n",
       "             pH2        pH1  \n",
       "count  10.000000  84.000000  \n",
       "mean    7.948570   7.910983  \n",
       "std     0.021216   0.077666  \n",
       "min     7.923100   7.618300  \n",
       "25%     7.931475   7.898675  \n",
       "50%     7.946650   7.928850  \n",
       "75%     7.963300   7.955100  \n",
       "max     7.988300   8.047700  "
      ]
     },
     "execution_count": 114,
     "metadata": {},
     "output_type": "execute_result"
    }
   ],
   "source": [
    "water.describe()"
   ]
  },
  {
   "cell_type": "code",
   "execution_count": 115,
   "id": "04372bc4",
   "metadata": {
    "scrolled": true
   },
   "outputs": [
    {
     "data": {
      "text/html": [
       "<div>\n",
       "<style scoped>\n",
       "    .dataframe tbody tr th:only-of-type {\n",
       "        vertical-align: middle;\n",
       "    }\n",
       "\n",
       "    .dataframe tbody tr th {\n",
       "        vertical-align: top;\n",
       "    }\n",
       "\n",
       "    .dataframe thead th {\n",
       "        text-align: right;\n",
       "    }\n",
       "</style>\n",
       "<table border=\"1\" class=\"dataframe\">\n",
       "  <thead>\n",
       "    <tr style=\"text-align: right;\">\n",
       "      <th></th>\n",
       "      <th>Cst_Cnt</th>\n",
       "      <th>Btl_Cnt</th>\n",
       "      <th>Sta_ID</th>\n",
       "      <th>Depth_ID</th>\n",
       "      <th>Depthm</th>\n",
       "      <th>T_degC</th>\n",
       "      <th>Salnty</th>\n",
       "      <th>O2ml_L</th>\n",
       "      <th>STheta</th>\n",
       "      <th>O2Sat</th>\n",
       "      <th>Oxy_µmol/Kg</th>\n",
       "      <th>BtlNum</th>\n",
       "      <th>RecInd</th>\n",
       "      <th>T_prec</th>\n",
       "      <th>T_qual</th>\n",
       "      <th>S_prec</th>\n",
       "      <th>S_qual</th>\n",
       "      <th>P_qual</th>\n",
       "      <th>O_qual</th>\n",
       "      <th>SThtaq</th>\n",
       "      <th>O2Satq</th>\n",
       "      <th>ChlorA</th>\n",
       "      <th>Chlqua</th>\n",
       "      <th>Phaeop</th>\n",
       "      <th>Phaqua</th>\n",
       "      <th>PO4uM</th>\n",
       "      <th>PO4q</th>\n",
       "      <th>SiO3uM</th>\n",
       "      <th>SiO3qu</th>\n",
       "      <th>NO2uM</th>\n",
       "      <th>NO2q</th>\n",
       "      <th>NO3uM</th>\n",
       "      <th>NO3q</th>\n",
       "      <th>NH3uM</th>\n",
       "      <th>NH3q</th>\n",
       "      <th>C14As1</th>\n",
       "      <th>C14A1p</th>\n",
       "      <th>C14A1q</th>\n",
       "      <th>C14As2</th>\n",
       "      <th>C14A2p</th>\n",
       "      <th>C14A2q</th>\n",
       "      <th>DarkAs</th>\n",
       "      <th>DarkAp</th>\n",
       "      <th>DarkAq</th>\n",
       "      <th>MeanAs</th>\n",
       "      <th>MeanAp</th>\n",
       "      <th>MeanAq</th>\n",
       "      <th>IncTim</th>\n",
       "      <th>LightP</th>\n",
       "      <th>R_Depth</th>\n",
       "      <th>R_TEMP</th>\n",
       "      <th>R_POTEMP</th>\n",
       "      <th>R_SALINITY</th>\n",
       "      <th>R_SIGMA</th>\n",
       "      <th>R_SVA</th>\n",
       "      <th>R_DYNHT</th>\n",
       "      <th>R_O2</th>\n",
       "      <th>R_O2Sat</th>\n",
       "      <th>R_SIO3</th>\n",
       "      <th>R_PO4</th>\n",
       "      <th>R_NO3</th>\n",
       "      <th>R_NO2</th>\n",
       "      <th>R_NH4</th>\n",
       "      <th>R_CHLA</th>\n",
       "      <th>R_PHAEO</th>\n",
       "      <th>R_PRES</th>\n",
       "      <th>R_SAMP</th>\n",
       "      <th>DIC1</th>\n",
       "      <th>DIC2</th>\n",
       "      <th>TA1</th>\n",
       "      <th>TA2</th>\n",
       "      <th>pH2</th>\n",
       "      <th>pH1</th>\n",
       "      <th>DIC Quality Comment</th>\n",
       "    </tr>\n",
       "  </thead>\n",
       "  <tbody>\n",
       "    <tr>\n",
       "      <th>0</th>\n",
       "      <td>1</td>\n",
       "      <td>1</td>\n",
       "      <td>054.0 056.0</td>\n",
       "      <td>19-4903CR-HY-060-0930-05400560-0000A-3</td>\n",
       "      <td>0</td>\n",
       "      <td>10.50</td>\n",
       "      <td>33.440</td>\n",
       "      <td>NaN</td>\n",
       "      <td>25.649</td>\n",
       "      <td>NaN</td>\n",
       "      <td>NaN</td>\n",
       "      <td>NaN</td>\n",
       "      <td>3</td>\n",
       "      <td>1.0</td>\n",
       "      <td>NaN</td>\n",
       "      <td>2.0</td>\n",
       "      <td>NaN</td>\n",
       "      <td>9.0</td>\n",
       "      <td>9.0</td>\n",
       "      <td>NaN</td>\n",
       "      <td>9.0</td>\n",
       "      <td>NaN</td>\n",
       "      <td>9.0</td>\n",
       "      <td>NaN</td>\n",
       "      <td>9.0</td>\n",
       "      <td>NaN</td>\n",
       "      <td>9.0</td>\n",
       "      <td>NaN</td>\n",
       "      <td>9.0</td>\n",
       "      <td>NaN</td>\n",
       "      <td>9.0</td>\n",
       "      <td>NaN</td>\n",
       "      <td>9.0</td>\n",
       "      <td>NaN</td>\n",
       "      <td>9.0</td>\n",
       "      <td>NaN</td>\n",
       "      <td>NaN</td>\n",
       "      <td>9.0</td>\n",
       "      <td>NaN</td>\n",
       "      <td>NaN</td>\n",
       "      <td>9.0</td>\n",
       "      <td>NaN</td>\n",
       "      <td>NaN</td>\n",
       "      <td>9.0</td>\n",
       "      <td>NaN</td>\n",
       "      <td>NaN</td>\n",
       "      <td>9.0</td>\n",
       "      <td>NaN</td>\n",
       "      <td>NaN</td>\n",
       "      <td>0.0</td>\n",
       "      <td>10.50</td>\n",
       "      <td>10.50</td>\n",
       "      <td>33.440</td>\n",
       "      <td>25.64</td>\n",
       "      <td>233.0</td>\n",
       "      <td>0.00</td>\n",
       "      <td>NaN</td>\n",
       "      <td>NaN</td>\n",
       "      <td>NaN</td>\n",
       "      <td>NaN</td>\n",
       "      <td>NaN</td>\n",
       "      <td>NaN</td>\n",
       "      <td>NaN</td>\n",
       "      <td>NaN</td>\n",
       "      <td>NaN</td>\n",
       "      <td>0</td>\n",
       "      <td>NaN</td>\n",
       "      <td>NaN</td>\n",
       "      <td>NaN</td>\n",
       "      <td>NaN</td>\n",
       "      <td>NaN</td>\n",
       "      <td>NaN</td>\n",
       "      <td>NaN</td>\n",
       "      <td>NaN</td>\n",
       "    </tr>\n",
       "    <tr>\n",
       "      <th>1</th>\n",
       "      <td>1</td>\n",
       "      <td>2</td>\n",
       "      <td>054.0 056.0</td>\n",
       "      <td>19-4903CR-HY-060-0930-05400560-0008A-3</td>\n",
       "      <td>8</td>\n",
       "      <td>10.46</td>\n",
       "      <td>33.440</td>\n",
       "      <td>NaN</td>\n",
       "      <td>25.656</td>\n",
       "      <td>NaN</td>\n",
       "      <td>NaN</td>\n",
       "      <td>NaN</td>\n",
       "      <td>3</td>\n",
       "      <td>2.0</td>\n",
       "      <td>NaN</td>\n",
       "      <td>2.0</td>\n",
       "      <td>NaN</td>\n",
       "      <td>9.0</td>\n",
       "      <td>9.0</td>\n",
       "      <td>NaN</td>\n",
       "      <td>9.0</td>\n",
       "      <td>NaN</td>\n",
       "      <td>9.0</td>\n",
       "      <td>NaN</td>\n",
       "      <td>9.0</td>\n",
       "      <td>NaN</td>\n",
       "      <td>9.0</td>\n",
       "      <td>NaN</td>\n",
       "      <td>9.0</td>\n",
       "      <td>NaN</td>\n",
       "      <td>9.0</td>\n",
       "      <td>NaN</td>\n",
       "      <td>9.0</td>\n",
       "      <td>NaN</td>\n",
       "      <td>9.0</td>\n",
       "      <td>NaN</td>\n",
       "      <td>NaN</td>\n",
       "      <td>9.0</td>\n",
       "      <td>NaN</td>\n",
       "      <td>NaN</td>\n",
       "      <td>9.0</td>\n",
       "      <td>NaN</td>\n",
       "      <td>NaN</td>\n",
       "      <td>9.0</td>\n",
       "      <td>NaN</td>\n",
       "      <td>NaN</td>\n",
       "      <td>9.0</td>\n",
       "      <td>NaN</td>\n",
       "      <td>NaN</td>\n",
       "      <td>8.0</td>\n",
       "      <td>10.46</td>\n",
       "      <td>10.46</td>\n",
       "      <td>33.440</td>\n",
       "      <td>25.65</td>\n",
       "      <td>232.5</td>\n",
       "      <td>0.01</td>\n",
       "      <td>NaN</td>\n",
       "      <td>NaN</td>\n",
       "      <td>NaN</td>\n",
       "      <td>NaN</td>\n",
       "      <td>NaN</td>\n",
       "      <td>NaN</td>\n",
       "      <td>NaN</td>\n",
       "      <td>NaN</td>\n",
       "      <td>NaN</td>\n",
       "      <td>8</td>\n",
       "      <td>NaN</td>\n",
       "      <td>NaN</td>\n",
       "      <td>NaN</td>\n",
       "      <td>NaN</td>\n",
       "      <td>NaN</td>\n",
       "      <td>NaN</td>\n",
       "      <td>NaN</td>\n",
       "      <td>NaN</td>\n",
       "    </tr>\n",
       "    <tr>\n",
       "      <th>2</th>\n",
       "      <td>1</td>\n",
       "      <td>3</td>\n",
       "      <td>054.0 056.0</td>\n",
       "      <td>19-4903CR-HY-060-0930-05400560-0010A-7</td>\n",
       "      <td>10</td>\n",
       "      <td>10.46</td>\n",
       "      <td>33.437</td>\n",
       "      <td>NaN</td>\n",
       "      <td>25.654</td>\n",
       "      <td>NaN</td>\n",
       "      <td>NaN</td>\n",
       "      <td>NaN</td>\n",
       "      <td>7</td>\n",
       "      <td>2.0</td>\n",
       "      <td>NaN</td>\n",
       "      <td>3.0</td>\n",
       "      <td>NaN</td>\n",
       "      <td>9.0</td>\n",
       "      <td>9.0</td>\n",
       "      <td>NaN</td>\n",
       "      <td>9.0</td>\n",
       "      <td>NaN</td>\n",
       "      <td>9.0</td>\n",
       "      <td>NaN</td>\n",
       "      <td>9.0</td>\n",
       "      <td>NaN</td>\n",
       "      <td>9.0</td>\n",
       "      <td>NaN</td>\n",
       "      <td>9.0</td>\n",
       "      <td>NaN</td>\n",
       "      <td>9.0</td>\n",
       "      <td>NaN</td>\n",
       "      <td>9.0</td>\n",
       "      <td>NaN</td>\n",
       "      <td>9.0</td>\n",
       "      <td>NaN</td>\n",
       "      <td>NaN</td>\n",
       "      <td>9.0</td>\n",
       "      <td>NaN</td>\n",
       "      <td>NaN</td>\n",
       "      <td>9.0</td>\n",
       "      <td>NaN</td>\n",
       "      <td>NaN</td>\n",
       "      <td>9.0</td>\n",
       "      <td>NaN</td>\n",
       "      <td>NaN</td>\n",
       "      <td>9.0</td>\n",
       "      <td>NaN</td>\n",
       "      <td>NaN</td>\n",
       "      <td>10.0</td>\n",
       "      <td>10.46</td>\n",
       "      <td>10.46</td>\n",
       "      <td>33.437</td>\n",
       "      <td>25.65</td>\n",
       "      <td>232.8</td>\n",
       "      <td>0.02</td>\n",
       "      <td>NaN</td>\n",
       "      <td>NaN</td>\n",
       "      <td>NaN</td>\n",
       "      <td>NaN</td>\n",
       "      <td>NaN</td>\n",
       "      <td>NaN</td>\n",
       "      <td>NaN</td>\n",
       "      <td>NaN</td>\n",
       "      <td>NaN</td>\n",
       "      <td>10</td>\n",
       "      <td>NaN</td>\n",
       "      <td>NaN</td>\n",
       "      <td>NaN</td>\n",
       "      <td>NaN</td>\n",
       "      <td>NaN</td>\n",
       "      <td>NaN</td>\n",
       "      <td>NaN</td>\n",
       "      <td>NaN</td>\n",
       "    </tr>\n",
       "    <tr>\n",
       "      <th>3</th>\n",
       "      <td>1</td>\n",
       "      <td>4</td>\n",
       "      <td>054.0 056.0</td>\n",
       "      <td>19-4903CR-HY-060-0930-05400560-0019A-3</td>\n",
       "      <td>19</td>\n",
       "      <td>10.45</td>\n",
       "      <td>33.420</td>\n",
       "      <td>NaN</td>\n",
       "      <td>25.643</td>\n",
       "      <td>NaN</td>\n",
       "      <td>NaN</td>\n",
       "      <td>NaN</td>\n",
       "      <td>3</td>\n",
       "      <td>2.0</td>\n",
       "      <td>NaN</td>\n",
       "      <td>2.0</td>\n",
       "      <td>NaN</td>\n",
       "      <td>9.0</td>\n",
       "      <td>9.0</td>\n",
       "      <td>NaN</td>\n",
       "      <td>9.0</td>\n",
       "      <td>NaN</td>\n",
       "      <td>9.0</td>\n",
       "      <td>NaN</td>\n",
       "      <td>9.0</td>\n",
       "      <td>NaN</td>\n",
       "      <td>9.0</td>\n",
       "      <td>NaN</td>\n",
       "      <td>9.0</td>\n",
       "      <td>NaN</td>\n",
       "      <td>9.0</td>\n",
       "      <td>NaN</td>\n",
       "      <td>9.0</td>\n",
       "      <td>NaN</td>\n",
       "      <td>9.0</td>\n",
       "      <td>NaN</td>\n",
       "      <td>NaN</td>\n",
       "      <td>9.0</td>\n",
       "      <td>NaN</td>\n",
       "      <td>NaN</td>\n",
       "      <td>9.0</td>\n",
       "      <td>NaN</td>\n",
       "      <td>NaN</td>\n",
       "      <td>9.0</td>\n",
       "      <td>NaN</td>\n",
       "      <td>NaN</td>\n",
       "      <td>9.0</td>\n",
       "      <td>NaN</td>\n",
       "      <td>NaN</td>\n",
       "      <td>19.0</td>\n",
       "      <td>10.45</td>\n",
       "      <td>10.45</td>\n",
       "      <td>33.420</td>\n",
       "      <td>25.64</td>\n",
       "      <td>234.1</td>\n",
       "      <td>0.04</td>\n",
       "      <td>NaN</td>\n",
       "      <td>NaN</td>\n",
       "      <td>NaN</td>\n",
       "      <td>NaN</td>\n",
       "      <td>NaN</td>\n",
       "      <td>NaN</td>\n",
       "      <td>NaN</td>\n",
       "      <td>NaN</td>\n",
       "      <td>NaN</td>\n",
       "      <td>19</td>\n",
       "      <td>NaN</td>\n",
       "      <td>NaN</td>\n",
       "      <td>NaN</td>\n",
       "      <td>NaN</td>\n",
       "      <td>NaN</td>\n",
       "      <td>NaN</td>\n",
       "      <td>NaN</td>\n",
       "      <td>NaN</td>\n",
       "    </tr>\n",
       "    <tr>\n",
       "      <th>4</th>\n",
       "      <td>1</td>\n",
       "      <td>5</td>\n",
       "      <td>054.0 056.0</td>\n",
       "      <td>19-4903CR-HY-060-0930-05400560-0020A-7</td>\n",
       "      <td>20</td>\n",
       "      <td>10.45</td>\n",
       "      <td>33.421</td>\n",
       "      <td>NaN</td>\n",
       "      <td>25.643</td>\n",
       "      <td>NaN</td>\n",
       "      <td>NaN</td>\n",
       "      <td>NaN</td>\n",
       "      <td>7</td>\n",
       "      <td>2.0</td>\n",
       "      <td>NaN</td>\n",
       "      <td>3.0</td>\n",
       "      <td>NaN</td>\n",
       "      <td>9.0</td>\n",
       "      <td>9.0</td>\n",
       "      <td>NaN</td>\n",
       "      <td>9.0</td>\n",
       "      <td>NaN</td>\n",
       "      <td>9.0</td>\n",
       "      <td>NaN</td>\n",
       "      <td>9.0</td>\n",
       "      <td>NaN</td>\n",
       "      <td>9.0</td>\n",
       "      <td>NaN</td>\n",
       "      <td>9.0</td>\n",
       "      <td>NaN</td>\n",
       "      <td>9.0</td>\n",
       "      <td>NaN</td>\n",
       "      <td>9.0</td>\n",
       "      <td>NaN</td>\n",
       "      <td>9.0</td>\n",
       "      <td>NaN</td>\n",
       "      <td>NaN</td>\n",
       "      <td>9.0</td>\n",
       "      <td>NaN</td>\n",
       "      <td>NaN</td>\n",
       "      <td>9.0</td>\n",
       "      <td>NaN</td>\n",
       "      <td>NaN</td>\n",
       "      <td>9.0</td>\n",
       "      <td>NaN</td>\n",
       "      <td>NaN</td>\n",
       "      <td>9.0</td>\n",
       "      <td>NaN</td>\n",
       "      <td>NaN</td>\n",
       "      <td>20.0</td>\n",
       "      <td>10.45</td>\n",
       "      <td>10.45</td>\n",
       "      <td>33.421</td>\n",
       "      <td>25.64</td>\n",
       "      <td>234.0</td>\n",
       "      <td>0.04</td>\n",
       "      <td>NaN</td>\n",
       "      <td>NaN</td>\n",
       "      <td>NaN</td>\n",
       "      <td>NaN</td>\n",
       "      <td>NaN</td>\n",
       "      <td>NaN</td>\n",
       "      <td>NaN</td>\n",
       "      <td>NaN</td>\n",
       "      <td>NaN</td>\n",
       "      <td>20</td>\n",
       "      <td>NaN</td>\n",
       "      <td>NaN</td>\n",
       "      <td>NaN</td>\n",
       "      <td>NaN</td>\n",
       "      <td>NaN</td>\n",
       "      <td>NaN</td>\n",
       "      <td>NaN</td>\n",
       "      <td>NaN</td>\n",
       "    </tr>\n",
       "  </tbody>\n",
       "</table>\n",
       "</div>"
      ],
      "text/plain": [
       "   Cst_Cnt  Btl_Cnt       Sta_ID                                Depth_ID  \\\n",
       "0        1        1  054.0 056.0  19-4903CR-HY-060-0930-05400560-0000A-3   \n",
       "1        1        2  054.0 056.0  19-4903CR-HY-060-0930-05400560-0008A-3   \n",
       "2        1        3  054.0 056.0  19-4903CR-HY-060-0930-05400560-0010A-7   \n",
       "3        1        4  054.0 056.0  19-4903CR-HY-060-0930-05400560-0019A-3   \n",
       "4        1        5  054.0 056.0  19-4903CR-HY-060-0930-05400560-0020A-7   \n",
       "\n",
       "   Depthm  T_degC  Salnty  O2ml_L  STheta  O2Sat  Oxy_µmol/Kg  BtlNum  RecInd  \\\n",
       "0       0   10.50  33.440     NaN  25.649    NaN          NaN     NaN       3   \n",
       "1       8   10.46  33.440     NaN  25.656    NaN          NaN     NaN       3   \n",
       "2      10   10.46  33.437     NaN  25.654    NaN          NaN     NaN       7   \n",
       "3      19   10.45  33.420     NaN  25.643    NaN          NaN     NaN       3   \n",
       "4      20   10.45  33.421     NaN  25.643    NaN          NaN     NaN       7   \n",
       "\n",
       "   T_prec  T_qual  S_prec  S_qual  P_qual  O_qual  SThtaq  O2Satq  ChlorA  \\\n",
       "0     1.0     NaN     2.0     NaN     9.0     9.0     NaN     9.0     NaN   \n",
       "1     2.0     NaN     2.0     NaN     9.0     9.0     NaN     9.0     NaN   \n",
       "2     2.0     NaN     3.0     NaN     9.0     9.0     NaN     9.0     NaN   \n",
       "3     2.0     NaN     2.0     NaN     9.0     9.0     NaN     9.0     NaN   \n",
       "4     2.0     NaN     3.0     NaN     9.0     9.0     NaN     9.0     NaN   \n",
       "\n",
       "   Chlqua  Phaeop  Phaqua  PO4uM  PO4q  SiO3uM  SiO3qu  NO2uM  NO2q  NO3uM  \\\n",
       "0     9.0     NaN     9.0    NaN   9.0     NaN     9.0    NaN   9.0    NaN   \n",
       "1     9.0     NaN     9.0    NaN   9.0     NaN     9.0    NaN   9.0    NaN   \n",
       "2     9.0     NaN     9.0    NaN   9.0     NaN     9.0    NaN   9.0    NaN   \n",
       "3     9.0     NaN     9.0    NaN   9.0     NaN     9.0    NaN   9.0    NaN   \n",
       "4     9.0     NaN     9.0    NaN   9.0     NaN     9.0    NaN   9.0    NaN   \n",
       "\n",
       "   NO3q  NH3uM  NH3q  C14As1  C14A1p  C14A1q  C14As2  C14A2p  C14A2q  DarkAs  \\\n",
       "0   9.0    NaN   9.0     NaN     NaN     9.0     NaN     NaN     9.0     NaN   \n",
       "1   9.0    NaN   9.0     NaN     NaN     9.0     NaN     NaN     9.0     NaN   \n",
       "2   9.0    NaN   9.0     NaN     NaN     9.0     NaN     NaN     9.0     NaN   \n",
       "3   9.0    NaN   9.0     NaN     NaN     9.0     NaN     NaN     9.0     NaN   \n",
       "4   9.0    NaN   9.0     NaN     NaN     9.0     NaN     NaN     9.0     NaN   \n",
       "\n",
       "   DarkAp  DarkAq  MeanAs  MeanAp  MeanAq IncTim  LightP  R_Depth  R_TEMP  \\\n",
       "0     NaN     9.0     NaN     NaN     9.0    NaN     NaN      0.0   10.50   \n",
       "1     NaN     9.0     NaN     NaN     9.0    NaN     NaN      8.0   10.46   \n",
       "2     NaN     9.0     NaN     NaN     9.0    NaN     NaN     10.0   10.46   \n",
       "3     NaN     9.0     NaN     NaN     9.0    NaN     NaN     19.0   10.45   \n",
       "4     NaN     9.0     NaN     NaN     9.0    NaN     NaN     20.0   10.45   \n",
       "\n",
       "   R_POTEMP  R_SALINITY  R_SIGMA  R_SVA  R_DYNHT  R_O2  R_O2Sat  R_SIO3  \\\n",
       "0     10.50      33.440    25.64  233.0     0.00   NaN      NaN     NaN   \n",
       "1     10.46      33.440    25.65  232.5     0.01   NaN      NaN     NaN   \n",
       "2     10.46      33.437    25.65  232.8     0.02   NaN      NaN     NaN   \n",
       "3     10.45      33.420    25.64  234.1     0.04   NaN      NaN     NaN   \n",
       "4     10.45      33.421    25.64  234.0     0.04   NaN      NaN     NaN   \n",
       "\n",
       "   R_PO4  R_NO3  R_NO2  R_NH4  R_CHLA  R_PHAEO  R_PRES  R_SAMP  DIC1  DIC2  \\\n",
       "0    NaN    NaN    NaN    NaN     NaN      NaN       0     NaN   NaN   NaN   \n",
       "1    NaN    NaN    NaN    NaN     NaN      NaN       8     NaN   NaN   NaN   \n",
       "2    NaN    NaN    NaN    NaN     NaN      NaN      10     NaN   NaN   NaN   \n",
       "3    NaN    NaN    NaN    NaN     NaN      NaN      19     NaN   NaN   NaN   \n",
       "4    NaN    NaN    NaN    NaN     NaN      NaN      20     NaN   NaN   NaN   \n",
       "\n",
       "   TA1  TA2  pH2  pH1 DIC Quality Comment  \n",
       "0  NaN  NaN  NaN  NaN                 NaN  \n",
       "1  NaN  NaN  NaN  NaN                 NaN  \n",
       "2  NaN  NaN  NaN  NaN                 NaN  \n",
       "3  NaN  NaN  NaN  NaN                 NaN  \n",
       "4  NaN  NaN  NaN  NaN                 NaN  "
      ]
     },
     "execution_count": 115,
     "metadata": {},
     "output_type": "execute_result"
    }
   ],
   "source": [
    "water.head()"
   ]
  },
  {
   "cell_type": "code",
   "execution_count": 116,
   "id": "9ee4ee98",
   "metadata": {},
   "outputs": [],
   "source": [
    "def get_info(df,k):\n",
    "    \"\"\"\n",
    "    Prints .info() about % of missing values per each column \n",
    "    \n",
    "        k:  float, flags columns with at least k*100% nulls\n",
    "        \n",
    "        df: pd.dataframe\n",
    "    \n",
    "    returns: list of columns with k*100% of nulls\n",
    "    \"\"\"\n",
    "    print(f\"Percentage of null values per column\")\n",
    "    count_null = df.isnull().sum() / len(df) #counts % of nulls\n",
    "    print(count_null)\n",
    "    count_col = len(df.columns)\n",
    "    count_empty = len(count_null[count_null > k]) #counts columns with k*100% of nulls\n",
    "    print(f\"{count_col} columns, {count_empty} with at least {k*100}% of missing values\")\n",
    "    empty_columns = list(count_null[count_null > k].index) #gets columns names\n",
    "    \n",
    "    return empty_columnsF"
   ]
  },
  {
   "cell_type": "code",
   "execution_count": 117,
   "id": "1a3a4d01",
   "metadata": {},
   "outputs": [
    {
     "name": "stdout",
     "output_type": "stream",
     "text": [
      "Percentage of null values per column\n",
      "Cst_Cnt                0.000000\n",
      "Btl_Cnt                0.000000\n",
      "Sta_ID                 0.000000\n",
      "Depth_ID               0.000000\n",
      "Depthm                 0.000000\n",
      "                         ...   \n",
      "TA1                    0.997590\n",
      "TA2                    0.999729\n",
      "pH2                    0.999988\n",
      "pH1                    0.999903\n",
      "DIC Quality Comment    0.999936\n",
      "Length: 74, dtype: float64\n",
      "74 columns, 44 with at least 25.0% of missing values\n"
     ]
    }
   ],
   "source": [
    "empty_cols = get_info(water,0.25)"
   ]
  },
  {
   "cell_type": "markdown",
   "id": "61b42ec2",
   "metadata": {},
   "source": [
    "There are many columns, as we suspected that have too many values missing and so they need to be removed. In that case rather than investigating it further and visualizing the data lets focus on removing some of them and implementing a strategy to deal with values that are below 25% of missing. But before we ventre any further, lets divide the dataset into train and test to avoid overfitting and model evaluation at the end of the project. "
   ]
  },
  {
   "cell_type": "markdown",
   "id": "d8ccdca0",
   "metadata": {},
   "source": [
    "## Dividing the data into train and test sets"
   ]
  },
  {
   "cell_type": "markdown",
   "id": "7db9288d",
   "metadata": {},
   "source": [
    "With such a large dataset I'll focus on the random sampling as a variation between methods might be similar"
   ]
  },
  {
   "cell_type": "code",
   "execution_count": 118,
   "id": "41bfb9d3",
   "metadata": {},
   "outputs": [],
   "source": [
    "X_train, X_test = train_test_split(water, test_size=0.2, random_state=0)"
   ]
  },
  {
   "cell_type": "code",
   "execution_count": 119,
   "id": "a60d95df",
   "metadata": {},
   "outputs": [],
   "source": [
    "water_train = X_train.copy()"
   ]
  },
  {
   "cell_type": "code",
   "execution_count": 120,
   "id": "340d0f96",
   "metadata": {},
   "outputs": [],
   "source": [
    "X_train_copy = X_train.copy()"
   ]
  },
  {
   "cell_type": "code",
   "execution_count": 121,
   "id": "8f96886a",
   "metadata": {},
   "outputs": [],
   "source": [
    "#X_test.columns"
   ]
  },
  {
   "cell_type": "markdown",
   "id": "074c6240",
   "metadata": {},
   "source": [
    "## Null Handling"
   ]
  },
  {
   "cell_type": "markdown",
   "id": "d3d83182",
   "metadata": {},
   "source": [
    "I'll implement two different approaches to handle null values, one at the column level and another at the row. This way I can save as much data as possible while controling the bias"
   ]
  },
  {
   "cell_type": "markdown",
   "id": "d1be15ee",
   "metadata": {},
   "source": [
    "#### Nulls in columns"
   ]
  },
  {
   "cell_type": "markdown",
   "id": "269b9f03",
   "metadata": {},
   "source": [
    "Lets remove the columns that have more than 75% of missing data, non descriptive features, dublicates, categorical variables with highly unbalanced data"
   ]
  },
  {
   "cell_type": "code",
   "execution_count": 122,
   "id": "c96e8d17",
   "metadata": {
    "scrolled": true
   },
   "outputs": [],
   "source": [
    "water_train.drop(axis=1,labels=empty_cols,inplace=True)"
   ]
  },
  {
   "cell_type": "code",
   "execution_count": 123,
   "id": "9ef4f93d",
   "metadata": {},
   "outputs": [
    {
     "data": {
      "text/html": [
       "<div>\n",
       "<style scoped>\n",
       "    .dataframe tbody tr th:only-of-type {\n",
       "        vertical-align: middle;\n",
       "    }\n",
       "\n",
       "    .dataframe tbody tr th {\n",
       "        vertical-align: top;\n",
       "    }\n",
       "\n",
       "    .dataframe thead th {\n",
       "        text-align: right;\n",
       "    }\n",
       "</style>\n",
       "<table border=\"1\" class=\"dataframe\">\n",
       "  <thead>\n",
       "    <tr style=\"text-align: right;\">\n",
       "      <th></th>\n",
       "      <th>Cst_Cnt</th>\n",
       "      <th>Btl_Cnt</th>\n",
       "      <th>Sta_ID</th>\n",
       "      <th>Depth_ID</th>\n",
       "      <th>Depthm</th>\n",
       "      <th>T_degC</th>\n",
       "      <th>Salnty</th>\n",
       "      <th>O2ml_L</th>\n",
       "      <th>STheta</th>\n",
       "      <th>O2Sat</th>\n",
       "      <th>Oxy_µmol/Kg</th>\n",
       "      <th>RecInd</th>\n",
       "      <th>T_prec</th>\n",
       "      <th>S_prec</th>\n",
       "      <th>P_qual</th>\n",
       "      <th>NH3q</th>\n",
       "      <th>C14A1q</th>\n",
       "      <th>C14A2q</th>\n",
       "      <th>DarkAq</th>\n",
       "      <th>MeanAq</th>\n",
       "      <th>R_Depth</th>\n",
       "      <th>R_TEMP</th>\n",
       "      <th>R_POTEMP</th>\n",
       "      <th>R_SALINITY</th>\n",
       "      <th>R_SIGMA</th>\n",
       "      <th>R_SVA</th>\n",
       "      <th>R_DYNHT</th>\n",
       "      <th>R_O2</th>\n",
       "      <th>R_O2Sat</th>\n",
       "      <th>R_PRES</th>\n",
       "    </tr>\n",
       "  </thead>\n",
       "  <tbody>\n",
       "    <tr>\n",
       "      <th>52679</th>\n",
       "      <td>1705</td>\n",
       "      <td>52680</td>\n",
       "      <td>020.0 030.0</td>\n",
       "      <td>19-5008BD-HY-230-1606-02000300-0000B-3</td>\n",
       "      <td>0</td>\n",
       "      <td>17.31</td>\n",
       "      <td>31.460</td>\n",
       "      <td>4.78</td>\n",
       "      <td>22.728</td>\n",
       "      <td>86.1</td>\n",
       "      <td>208.73080</td>\n",
       "      <td>3</td>\n",
       "      <td>2.0</td>\n",
       "      <td>2.0</td>\n",
       "      <td>9.0</td>\n",
       "      <td>9.0</td>\n",
       "      <td>9.0</td>\n",
       "      <td>9.0</td>\n",
       "      <td>9.0</td>\n",
       "      <td>9.0</td>\n",
       "      <td>0.0</td>\n",
       "      <td>17.31</td>\n",
       "      <td>17.31</td>\n",
       "      <td>31.460</td>\n",
       "      <td>22.72</td>\n",
       "      <td>511.5</td>\n",
       "      <td>0.00</td>\n",
       "      <td>4.78</td>\n",
       "      <td>86.1</td>\n",
       "      <td>0</td>\n",
       "    </tr>\n",
       "    <tr>\n",
       "      <th>493513</th>\n",
       "      <td>19835</td>\n",
       "      <td>493514</td>\n",
       "      <td>116.7 050.0</td>\n",
       "      <td>19-7505JD-HY-155-1612-11670500-0200A-7</td>\n",
       "      <td>200</td>\n",
       "      <td>10.22</td>\n",
       "      <td>34.255</td>\n",
       "      <td>1.52</td>\n",
       "      <td>26.337</td>\n",
       "      <td>24.0</td>\n",
       "      <td>66.14124</td>\n",
       "      <td>7</td>\n",
       "      <td>2.0</td>\n",
       "      <td>3.0</td>\n",
       "      <td>9.0</td>\n",
       "      <td>9.0</td>\n",
       "      <td>9.0</td>\n",
       "      <td>9.0</td>\n",
       "      <td>9.0</td>\n",
       "      <td>9.0</td>\n",
       "      <td>200.0</td>\n",
       "      <td>10.22</td>\n",
       "      <td>10.20</td>\n",
       "      <td>34.255</td>\n",
       "      <td>26.33</td>\n",
       "      <td>172.3</td>\n",
       "      <td>0.50</td>\n",
       "      <td>1.52</td>\n",
       "      <td>24.0</td>\n",
       "      <td>201</td>\n",
       "    </tr>\n",
       "    <tr>\n",
       "      <th>237558</th>\n",
       "      <td>9071</td>\n",
       "      <td>237559</td>\n",
       "      <td>066.7 070.0</td>\n",
       "      <td>19-5707ST-HY-200-0206-06670700-0028A-3</td>\n",
       "      <td>28</td>\n",
       "      <td>14.73</td>\n",
       "      <td>33.220</td>\n",
       "      <td>6.09</td>\n",
       "      <td>24.660</td>\n",
       "      <td>105.3</td>\n",
       "      <td>265.43380</td>\n",
       "      <td>3</td>\n",
       "      <td>2.0</td>\n",
       "      <td>2.0</td>\n",
       "      <td>9.0</td>\n",
       "      <td>9.0</td>\n",
       "      <td>9.0</td>\n",
       "      <td>9.0</td>\n",
       "      <td>9.0</td>\n",
       "      <td>9.0</td>\n",
       "      <td>28.0</td>\n",
       "      <td>14.73</td>\n",
       "      <td>14.73</td>\n",
       "      <td>33.220</td>\n",
       "      <td>24.66</td>\n",
       "      <td>328.0</td>\n",
       "      <td>0.09</td>\n",
       "      <td>6.09</td>\n",
       "      <td>105.3</td>\n",
       "      <td>28</td>\n",
       "    </tr>\n",
       "    <tr>\n",
       "      <th>363234</th>\n",
       "      <td>13589</td>\n",
       "      <td>363235</td>\n",
       "      <td>100.0 060.0</td>\n",
       "      <td>19-6304AX-HY-126-0118-10000600-0274A-3</td>\n",
       "      <td>274</td>\n",
       "      <td>7.46</td>\n",
       "      <td>34.106</td>\n",
       "      <td>1.91</td>\n",
       "      <td>26.654</td>\n",
       "      <td>28.4</td>\n",
       "      <td>83.08602</td>\n",
       "      <td>3</td>\n",
       "      <td>2.0</td>\n",
       "      <td>3.0</td>\n",
       "      <td>9.0</td>\n",
       "      <td>9.0</td>\n",
       "      <td>9.0</td>\n",
       "      <td>9.0</td>\n",
       "      <td>9.0</td>\n",
       "      <td>9.0</td>\n",
       "      <td>274.0</td>\n",
       "      <td>7.46</td>\n",
       "      <td>7.43</td>\n",
       "      <td>34.106</td>\n",
       "      <td>26.65</td>\n",
       "      <td>142.3</td>\n",
       "      <td>0.61</td>\n",
       "      <td>1.91</td>\n",
       "      <td>28.4</td>\n",
       "      <td>276</td>\n",
       "    </tr>\n",
       "    <tr>\n",
       "      <th>644007</th>\n",
       "      <td>26380</td>\n",
       "      <td>644008</td>\n",
       "      <td>093.3 050.0</td>\n",
       "      <td>19-9003JD-HY-065-0700-09330500-0500A-7</td>\n",
       "      <td>500</td>\n",
       "      <td>6.53</td>\n",
       "      <td>34.315</td>\n",
       "      <td>0.32</td>\n",
       "      <td>26.949</td>\n",
       "      <td>4.7</td>\n",
       "      <td>13.91617</td>\n",
       "      <td>7</td>\n",
       "      <td>2.0</td>\n",
       "      <td>3.0</td>\n",
       "      <td>9.0</td>\n",
       "      <td>9.0</td>\n",
       "      <td>9.0</td>\n",
       "      <td>9.0</td>\n",
       "      <td>9.0</td>\n",
       "      <td>9.0</td>\n",
       "      <td>500.0</td>\n",
       "      <td>6.53</td>\n",
       "      <td>6.48</td>\n",
       "      <td>34.315</td>\n",
       "      <td>26.94</td>\n",
       "      <td>117.3</td>\n",
       "      <td>0.86</td>\n",
       "      <td>0.32</td>\n",
       "      <td>4.7</td>\n",
       "      <td>503</td>\n",
       "    </tr>\n",
       "  </tbody>\n",
       "</table>\n",
       "</div>"
      ],
      "text/plain": [
       "        Cst_Cnt  Btl_Cnt       Sta_ID                                Depth_ID  \\\n",
       "52679      1705    52680  020.0 030.0  19-5008BD-HY-230-1606-02000300-0000B-3   \n",
       "493513    19835   493514  116.7 050.0  19-7505JD-HY-155-1612-11670500-0200A-7   \n",
       "237558     9071   237559  066.7 070.0  19-5707ST-HY-200-0206-06670700-0028A-3   \n",
       "363234    13589   363235  100.0 060.0  19-6304AX-HY-126-0118-10000600-0274A-3   \n",
       "644007    26380   644008  093.3 050.0  19-9003JD-HY-065-0700-09330500-0500A-7   \n",
       "\n",
       "        Depthm  T_degC  Salnty  O2ml_L  STheta  O2Sat  Oxy_µmol/Kg  RecInd  \\\n",
       "52679        0   17.31  31.460    4.78  22.728   86.1    208.73080       3   \n",
       "493513     200   10.22  34.255    1.52  26.337   24.0     66.14124       7   \n",
       "237558      28   14.73  33.220    6.09  24.660  105.3    265.43380       3   \n",
       "363234     274    7.46  34.106    1.91  26.654   28.4     83.08602       3   \n",
       "644007     500    6.53  34.315    0.32  26.949    4.7     13.91617       7   \n",
       "\n",
       "        T_prec  S_prec  P_qual  NH3q  C14A1q  C14A2q  DarkAq  MeanAq  R_Depth  \\\n",
       "52679      2.0     2.0     9.0   9.0     9.0     9.0     9.0     9.0      0.0   \n",
       "493513     2.0     3.0     9.0   9.0     9.0     9.0     9.0     9.0    200.0   \n",
       "237558     2.0     2.0     9.0   9.0     9.0     9.0     9.0     9.0     28.0   \n",
       "363234     2.0     3.0     9.0   9.0     9.0     9.0     9.0     9.0    274.0   \n",
       "644007     2.0     3.0     9.0   9.0     9.0     9.0     9.0     9.0    500.0   \n",
       "\n",
       "        R_TEMP  R_POTEMP  R_SALINITY  R_SIGMA  R_SVA  R_DYNHT  R_O2  R_O2Sat  \\\n",
       "52679    17.31     17.31      31.460    22.72  511.5     0.00  4.78     86.1   \n",
       "493513   10.22     10.20      34.255    26.33  172.3     0.50  1.52     24.0   \n",
       "237558   14.73     14.73      33.220    24.66  328.0     0.09  6.09    105.3   \n",
       "363234    7.46      7.43      34.106    26.65  142.3     0.61  1.91     28.4   \n",
       "644007    6.53      6.48      34.315    26.94  117.3     0.86  0.32      4.7   \n",
       "\n",
       "        R_PRES  \n",
       "52679        0  \n",
       "493513     201  \n",
       "237558      28  \n",
       "363234     276  \n",
       "644007     503  "
      ]
     },
     "execution_count": 123,
     "metadata": {},
     "output_type": "execute_result"
    }
   ],
   "source": [
    "water_train.head()"
   ]
  },
  {
   "cell_type": "markdown",
   "id": "f08ddcfd",
   "metadata": {},
   "source": [
    "Looking at the dataset I see a lot of features name contains oxygen, I'd like to investigate their correlations between each other to determine if they're the same thing. If that's the case, removing them might be a good option since highly correlated features don't necessarily help with prediction of response variable. To avoid creating a large matrix, I'll investigate the O2Sat feature against all the others present."
   ]
  },
  {
   "cell_type": "code",
   "execution_count": 124,
   "id": "c2688cac",
   "metadata": {},
   "outputs": [],
   "source": [
    "water_corr = water_train.corr()"
   ]
  },
  {
   "cell_type": "code",
   "execution_count": 125,
   "id": "7cd9750d",
   "metadata": {},
   "outputs": [
    {
     "data": {
      "text/plain": [
       "O2Sat          1.000000\n",
       "R_O2Sat        0.999999\n",
       "Oxy_µmol/Kg    0.993362\n",
       "O2ml_L         0.993236\n",
       "R_O2           0.993234\n",
       "R_SVA          0.926796\n",
       "R_POTEMP       0.851050\n",
       "R_TEMP         0.850646\n",
       "T_degC         0.850646\n",
       "Cst_Cnt        0.136474\n",
       "Btl_Cnt        0.134663\n",
       "S_prec         0.021379\n",
       "NH3q           0.012515\n",
       "C14A1q        -0.004902\n",
       "C14A2q        -0.004902\n",
       "DarkAq        -0.004981\n",
       "MeanAq        -0.004981\n",
       "T_prec        -0.010156\n",
       "RecInd        -0.066891\n",
       "R_PRES        -0.594296\n",
       "Depthm        -0.596100\n",
       "R_Depth       -0.596100\n",
       "R_DYNHT       -0.775722\n",
       "R_SALINITY    -0.787812\n",
       "Salnty        -0.790995\n",
       "STheta        -0.865147\n",
       "R_SIGMA       -0.928927\n",
       "P_qual              NaN\n",
       "Name: O2Sat, dtype: float64"
      ]
     },
     "execution_count": 125,
     "metadata": {},
     "output_type": "execute_result"
    }
   ],
   "source": [
    "water_corr['O2Sat'].sort_values(ascending=False)"
   ]
  },
  {
   "cell_type": "markdown",
   "id": "30232b43",
   "metadata": {},
   "source": [
    "Just as I thought, there are features that are highly correlated with oxygen that hold the name of O2 in the name, I'll remove them since they create an issue of multicollinearity:\n",
    "https://online.stat.psu.edu/stat501/lesson/12/12.3"
   ]
  },
  {
   "cell_type": "code",
   "execution_count": 126,
   "id": "dacff431",
   "metadata": {},
   "outputs": [],
   "source": [
    "corr_matr_index_drop = water_corr['O2Sat'].sort_values(ascending=False).index[1:5]"
   ]
  },
  {
   "cell_type": "code",
   "execution_count": 127,
   "id": "d4c340d5",
   "metadata": {},
   "outputs": [],
   "source": [
    "water_train.drop(axis=1,labels=corr_matr_index_drop, inplace=True)"
   ]
  },
  {
   "cell_type": "code",
   "execution_count": 128,
   "id": "d187b2c6",
   "metadata": {},
   "outputs": [
    {
     "data": {
      "text/html": [
       "<div>\n",
       "<style scoped>\n",
       "    .dataframe tbody tr th:only-of-type {\n",
       "        vertical-align: middle;\n",
       "    }\n",
       "\n",
       "    .dataframe tbody tr th {\n",
       "        vertical-align: top;\n",
       "    }\n",
       "\n",
       "    .dataframe thead th {\n",
       "        text-align: right;\n",
       "    }\n",
       "</style>\n",
       "<table border=\"1\" class=\"dataframe\">\n",
       "  <thead>\n",
       "    <tr style=\"text-align: right;\">\n",
       "      <th></th>\n",
       "      <th>Cst_Cnt</th>\n",
       "      <th>Btl_Cnt</th>\n",
       "      <th>Sta_ID</th>\n",
       "      <th>Depth_ID</th>\n",
       "      <th>Depthm</th>\n",
       "      <th>T_degC</th>\n",
       "      <th>Salnty</th>\n",
       "      <th>STheta</th>\n",
       "      <th>O2Sat</th>\n",
       "      <th>RecInd</th>\n",
       "      <th>T_prec</th>\n",
       "      <th>S_prec</th>\n",
       "      <th>P_qual</th>\n",
       "      <th>NH3q</th>\n",
       "      <th>C14A1q</th>\n",
       "      <th>C14A2q</th>\n",
       "      <th>DarkAq</th>\n",
       "      <th>MeanAq</th>\n",
       "      <th>R_Depth</th>\n",
       "      <th>R_TEMP</th>\n",
       "      <th>R_POTEMP</th>\n",
       "      <th>R_SALINITY</th>\n",
       "      <th>R_SIGMA</th>\n",
       "      <th>R_SVA</th>\n",
       "      <th>R_DYNHT</th>\n",
       "      <th>R_PRES</th>\n",
       "    </tr>\n",
       "  </thead>\n",
       "  <tbody>\n",
       "    <tr>\n",
       "      <th>52679</th>\n",
       "      <td>1705</td>\n",
       "      <td>52680</td>\n",
       "      <td>020.0 030.0</td>\n",
       "      <td>19-5008BD-HY-230-1606-02000300-0000B-3</td>\n",
       "      <td>0</td>\n",
       "      <td>17.31</td>\n",
       "      <td>31.460</td>\n",
       "      <td>22.728</td>\n",
       "      <td>86.1</td>\n",
       "      <td>3</td>\n",
       "      <td>2.0</td>\n",
       "      <td>2.0</td>\n",
       "      <td>9.0</td>\n",
       "      <td>9.0</td>\n",
       "      <td>9.0</td>\n",
       "      <td>9.0</td>\n",
       "      <td>9.0</td>\n",
       "      <td>9.0</td>\n",
       "      <td>0.0</td>\n",
       "      <td>17.31</td>\n",
       "      <td>17.31</td>\n",
       "      <td>31.460</td>\n",
       "      <td>22.72</td>\n",
       "      <td>511.5</td>\n",
       "      <td>0.00</td>\n",
       "      <td>0</td>\n",
       "    </tr>\n",
       "    <tr>\n",
       "      <th>493513</th>\n",
       "      <td>19835</td>\n",
       "      <td>493514</td>\n",
       "      <td>116.7 050.0</td>\n",
       "      <td>19-7505JD-HY-155-1612-11670500-0200A-7</td>\n",
       "      <td>200</td>\n",
       "      <td>10.22</td>\n",
       "      <td>34.255</td>\n",
       "      <td>26.337</td>\n",
       "      <td>24.0</td>\n",
       "      <td>7</td>\n",
       "      <td>2.0</td>\n",
       "      <td>3.0</td>\n",
       "      <td>9.0</td>\n",
       "      <td>9.0</td>\n",
       "      <td>9.0</td>\n",
       "      <td>9.0</td>\n",
       "      <td>9.0</td>\n",
       "      <td>9.0</td>\n",
       "      <td>200.0</td>\n",
       "      <td>10.22</td>\n",
       "      <td>10.20</td>\n",
       "      <td>34.255</td>\n",
       "      <td>26.33</td>\n",
       "      <td>172.3</td>\n",
       "      <td>0.50</td>\n",
       "      <td>201</td>\n",
       "    </tr>\n",
       "    <tr>\n",
       "      <th>237558</th>\n",
       "      <td>9071</td>\n",
       "      <td>237559</td>\n",
       "      <td>066.7 070.0</td>\n",
       "      <td>19-5707ST-HY-200-0206-06670700-0028A-3</td>\n",
       "      <td>28</td>\n",
       "      <td>14.73</td>\n",
       "      <td>33.220</td>\n",
       "      <td>24.660</td>\n",
       "      <td>105.3</td>\n",
       "      <td>3</td>\n",
       "      <td>2.0</td>\n",
       "      <td>2.0</td>\n",
       "      <td>9.0</td>\n",
       "      <td>9.0</td>\n",
       "      <td>9.0</td>\n",
       "      <td>9.0</td>\n",
       "      <td>9.0</td>\n",
       "      <td>9.0</td>\n",
       "      <td>28.0</td>\n",
       "      <td>14.73</td>\n",
       "      <td>14.73</td>\n",
       "      <td>33.220</td>\n",
       "      <td>24.66</td>\n",
       "      <td>328.0</td>\n",
       "      <td>0.09</td>\n",
       "      <td>28</td>\n",
       "    </tr>\n",
       "    <tr>\n",
       "      <th>363234</th>\n",
       "      <td>13589</td>\n",
       "      <td>363235</td>\n",
       "      <td>100.0 060.0</td>\n",
       "      <td>19-6304AX-HY-126-0118-10000600-0274A-3</td>\n",
       "      <td>274</td>\n",
       "      <td>7.46</td>\n",
       "      <td>34.106</td>\n",
       "      <td>26.654</td>\n",
       "      <td>28.4</td>\n",
       "      <td>3</td>\n",
       "      <td>2.0</td>\n",
       "      <td>3.0</td>\n",
       "      <td>9.0</td>\n",
       "      <td>9.0</td>\n",
       "      <td>9.0</td>\n",
       "      <td>9.0</td>\n",
       "      <td>9.0</td>\n",
       "      <td>9.0</td>\n",
       "      <td>274.0</td>\n",
       "      <td>7.46</td>\n",
       "      <td>7.43</td>\n",
       "      <td>34.106</td>\n",
       "      <td>26.65</td>\n",
       "      <td>142.3</td>\n",
       "      <td>0.61</td>\n",
       "      <td>276</td>\n",
       "    </tr>\n",
       "    <tr>\n",
       "      <th>644007</th>\n",
       "      <td>26380</td>\n",
       "      <td>644008</td>\n",
       "      <td>093.3 050.0</td>\n",
       "      <td>19-9003JD-HY-065-0700-09330500-0500A-7</td>\n",
       "      <td>500</td>\n",
       "      <td>6.53</td>\n",
       "      <td>34.315</td>\n",
       "      <td>26.949</td>\n",
       "      <td>4.7</td>\n",
       "      <td>7</td>\n",
       "      <td>2.0</td>\n",
       "      <td>3.0</td>\n",
       "      <td>9.0</td>\n",
       "      <td>9.0</td>\n",
       "      <td>9.0</td>\n",
       "      <td>9.0</td>\n",
       "      <td>9.0</td>\n",
       "      <td>9.0</td>\n",
       "      <td>500.0</td>\n",
       "      <td>6.53</td>\n",
       "      <td>6.48</td>\n",
       "      <td>34.315</td>\n",
       "      <td>26.94</td>\n",
       "      <td>117.3</td>\n",
       "      <td>0.86</td>\n",
       "      <td>503</td>\n",
       "    </tr>\n",
       "  </tbody>\n",
       "</table>\n",
       "</div>"
      ],
      "text/plain": [
       "        Cst_Cnt  Btl_Cnt       Sta_ID                                Depth_ID  \\\n",
       "52679      1705    52680  020.0 030.0  19-5008BD-HY-230-1606-02000300-0000B-3   \n",
       "493513    19835   493514  116.7 050.0  19-7505JD-HY-155-1612-11670500-0200A-7   \n",
       "237558     9071   237559  066.7 070.0  19-5707ST-HY-200-0206-06670700-0028A-3   \n",
       "363234    13589   363235  100.0 060.0  19-6304AX-HY-126-0118-10000600-0274A-3   \n",
       "644007    26380   644008  093.3 050.0  19-9003JD-HY-065-0700-09330500-0500A-7   \n",
       "\n",
       "        Depthm  T_degC  Salnty  STheta  O2Sat  RecInd  T_prec  S_prec  P_qual  \\\n",
       "52679        0   17.31  31.460  22.728   86.1       3     2.0     2.0     9.0   \n",
       "493513     200   10.22  34.255  26.337   24.0       7     2.0     3.0     9.0   \n",
       "237558      28   14.73  33.220  24.660  105.3       3     2.0     2.0     9.0   \n",
       "363234     274    7.46  34.106  26.654   28.4       3     2.0     3.0     9.0   \n",
       "644007     500    6.53  34.315  26.949    4.7       7     2.0     3.0     9.0   \n",
       "\n",
       "        NH3q  C14A1q  C14A2q  DarkAq  MeanAq  R_Depth  R_TEMP  R_POTEMP  \\\n",
       "52679    9.0     9.0     9.0     9.0     9.0      0.0   17.31     17.31   \n",
       "493513   9.0     9.0     9.0     9.0     9.0    200.0   10.22     10.20   \n",
       "237558   9.0     9.0     9.0     9.0     9.0     28.0   14.73     14.73   \n",
       "363234   9.0     9.0     9.0     9.0     9.0    274.0    7.46      7.43   \n",
       "644007   9.0     9.0     9.0     9.0     9.0    500.0    6.53      6.48   \n",
       "\n",
       "        R_SALINITY  R_SIGMA  R_SVA  R_DYNHT  R_PRES  \n",
       "52679       31.460    22.72  511.5     0.00       0  \n",
       "493513      34.255    26.33  172.3     0.50     201  \n",
       "237558      33.220    24.66  328.0     0.09      28  \n",
       "363234      34.106    26.65  142.3     0.61     276  \n",
       "644007      34.315    26.94  117.3     0.86     503  "
      ]
     },
     "execution_count": 128,
     "metadata": {},
     "output_type": "execute_result"
    }
   ],
   "source": [
    "water_train.head()"
   ]
  },
  {
   "cell_type": "markdown",
   "id": "dd3dc9ea",
   "metadata": {},
   "source": [
    "Also, lets look if we have any categorical features that are not refelcted in the .info() summary, perhaps we can see a pattern, and where we might think as continous and unique value for each row there could be bins that are more reflective of water testing procedurs."
   ]
  },
  {
   "cell_type": "code",
   "execution_count": 129,
   "id": "602d4d8c",
   "metadata": {},
   "outputs": [
    {
     "name": "stdout",
     "output_type": "stream",
     "text": [
      "There are 34340 categories in Cst_Cnt\n",
      "There are 691890 categories in Btl_Cnt\n",
      "There are 2620 categories in Sta_ID\n",
      "There are 691880 categories in Depth_ID\n",
      "There are 3020 categories in Depthm\n",
      "There are 13112 categories in T_degC\n",
      "There are 13712 categories in Salnty\n",
      "There are 30510 categories in STheta\n",
      "There are 9793 categories in O2Sat\n",
      "There are 5 categories in RecInd\n",
      "There are 3 categories in T_prec\n",
      "There are 2 categories in S_prec\n",
      "There are 1 categories in P_qual\n",
      "There are 2 categories in NH3q\n",
      "There are 2 categories in C14A1q\n",
      "There are 2 categories in C14A2q\n",
      "There are 2 categories in DarkAq\n",
      "There are 2 categories in MeanAq\n",
      "There are 3020 categories in R_Depth\n",
      "There are 2802 categories in R_TEMP\n",
      "There are 2834 categories in R_POTEMP\n",
      "There are 3487 categories in R_SALINITY\n",
      "There are 4332 categories in R_SIGMA\n",
      "There are 5185 categories in R_SVA\n",
      "There are 1778 categories in R_DYNHT\n",
      "There are 3110 categories in R_PRES\n"
     ]
    }
   ],
   "source": [
    "for feature in water_train.columns:\n",
    "    print(f\"There are {len(water_train[feature].value_counts())} categories in {feature}\" )"
   ]
  },
  {
   "cell_type": "markdown",
   "id": "1b1010d2",
   "metadata": {},
   "source": [
    "Since there are no significant informations contained in Btl_Cnt,Depth_ID; I'll remove them from the dataset. Also, since there are 23869 categories in feature Cst_Cnt it would create too many columns in `OneHotEncoding()`"
   ]
  },
  {
   "cell_type": "code",
   "execution_count": 130,
   "id": "f5af0e2d",
   "metadata": {},
   "outputs": [],
   "source": [
    "insign_cols = ['Btl_Cnt', 'Depth_ID', 'Cst_Cnt']"
   ]
  },
  {
   "cell_type": "code",
   "execution_count": 131,
   "id": "52768494",
   "metadata": {
    "scrolled": false
   },
   "outputs": [],
   "source": [
    "water_train.drop(axis=1,labels=insign_cols,inplace=True)"
   ]
  },
  {
   "cell_type": "markdown",
   "id": "1e0dcb56",
   "metadata": {},
   "source": [
    "I've removed further variables because there were doubles in a dataset that furth escallate the multicollieatiy issue"
   ]
  },
  {
   "cell_type": "code",
   "execution_count": 132,
   "id": "fa553bcc",
   "metadata": {},
   "outputs": [],
   "source": [
    "doubles_cols = ['Depthm','T_degC','R_POTEMP', 'R_SALINITY']"
   ]
  },
  {
   "cell_type": "code",
   "execution_count": 133,
   "id": "08168709",
   "metadata": {},
   "outputs": [],
   "source": [
    "water_train.drop(axis=1,inplace=True, labels=doubles_cols)"
   ]
  },
  {
   "cell_type": "code",
   "execution_count": 134,
   "id": "89ce1343",
   "metadata": {},
   "outputs": [
    {
     "name": "stdout",
     "output_type": "stream",
     "text": [
      "9.0    639749\n",
      "4.0      6749\n",
      "Name: NH3q, dtype: int64\n",
      "9.0    678838\n",
      "8.0         6\n",
      "Name: C14A1q, dtype: int64\n",
      "9.0    678851\n",
      "8.0         6\n",
      "Name: C14A2q, dtype: int64\n",
      "9.0    672335\n",
      "8.0         6\n",
      "Name: DarkAq, dtype: int64\n",
      "9.0    672334\n",
      "8.0         6\n",
      "Name: MeanAq, dtype: int64\n",
      "10.0      28128\n",
      "20.0      26984\n",
      "0.0       26639\n",
      "30.0      26489\n",
      "50.0      26013\n",
      "          ...  \n",
      "1705.0        1\n",
      "1710.0        1\n",
      "2315.0        1\n",
      "3457.0        1\n",
      "3407.0        1\n",
      "Name: R_Depth, Length: 3020, dtype: int64\n",
      "8.90     931\n",
      "8.88     927\n",
      "9.30     924\n",
      "9.10     921\n",
      "9.02     917\n",
      "        ... \n",
      "30.20      1\n",
      "28.13      1\n",
      "30.25      1\n",
      "30.06      1\n",
      "25.68      1\n",
      "Name: R_TEMP, Length: 2802, dtype: int64\n",
      "26.970    3220\n",
      "26.600    3159\n",
      "26.610    3117\n",
      "26.980    3109\n",
      "26.580    3094\n",
      "          ... \n",
      "23.564       1\n",
      "23.688       1\n",
      "23.123       1\n",
      "27.335       1\n",
      "27.163       1\n",
      "Name: R_SIGMA, Length: 4332, dtype: int64\n",
      "146.9    439\n",
      "146.5    428\n",
      "150.5    418\n",
      "146.0    417\n",
      "148.2    414\n",
      "        ... \n",
      "601.5      1\n",
      "498.6      1\n",
      "582.2      1\n",
      "599.9      1\n",
      "542.4      1\n",
      "Name: R_SVA, Length: 5185, dtype: int64\n"
     ]
    }
   ],
   "source": [
    "for col in water_train.columns[8:17]:\n",
    "    print(f\"{water_train[col].value_counts()}\")"
   ]
  },
  {
   "cell_type": "markdown",
   "id": "d0a8300e",
   "metadata": {},
   "source": [
    "The columns with small amount of categories are highly unbalanced, to the point of being a single category. In the scope of 700k observation these features are non predictive, in exception of T_prec which only measures the precision of measurement"
   ]
  },
  {
   "cell_type": "code",
   "execution_count": 135,
   "id": "ec9fae3c",
   "metadata": {},
   "outputs": [],
   "source": [
    "unpredictive_cols = ['T_prec','C14A1q', 'MeanAq', 'DarkAq', 'C14A2q','P_qual','RecInd','NH3q','S_prec', 'R_SIGMA']"
   ]
  },
  {
   "cell_type": "code",
   "execution_count": 136,
   "id": "434578b5",
   "metadata": {},
   "outputs": [],
   "source": [
    "water_train.drop(axis=1,inplace=True, labels=unpredictive_cols)"
   ]
  },
  {
   "cell_type": "code",
   "execution_count": 137,
   "id": "e1e04804",
   "metadata": {},
   "outputs": [
    {
     "data": {
      "text/html": [
       "<div>\n",
       "<style scoped>\n",
       "    .dataframe tbody tr th:only-of-type {\n",
       "        vertical-align: middle;\n",
       "    }\n",
       "\n",
       "    .dataframe tbody tr th {\n",
       "        vertical-align: top;\n",
       "    }\n",
       "\n",
       "    .dataframe thead th {\n",
       "        text-align: right;\n",
       "    }\n",
       "</style>\n",
       "<table border=\"1\" class=\"dataframe\">\n",
       "  <thead>\n",
       "    <tr style=\"text-align: right;\">\n",
       "      <th></th>\n",
       "      <th>Sta_ID</th>\n",
       "      <th>Salnty</th>\n",
       "      <th>STheta</th>\n",
       "      <th>O2Sat</th>\n",
       "      <th>R_Depth</th>\n",
       "      <th>R_TEMP</th>\n",
       "      <th>R_SVA</th>\n",
       "      <th>R_DYNHT</th>\n",
       "      <th>R_PRES</th>\n",
       "    </tr>\n",
       "  </thead>\n",
       "  <tbody>\n",
       "    <tr>\n",
       "      <th>52679</th>\n",
       "      <td>020.0 030.0</td>\n",
       "      <td>31.460</td>\n",
       "      <td>22.728</td>\n",
       "      <td>86.1</td>\n",
       "      <td>0.0</td>\n",
       "      <td>17.31</td>\n",
       "      <td>511.5</td>\n",
       "      <td>0.00</td>\n",
       "      <td>0</td>\n",
       "    </tr>\n",
       "    <tr>\n",
       "      <th>493513</th>\n",
       "      <td>116.7 050.0</td>\n",
       "      <td>34.255</td>\n",
       "      <td>26.337</td>\n",
       "      <td>24.0</td>\n",
       "      <td>200.0</td>\n",
       "      <td>10.22</td>\n",
       "      <td>172.3</td>\n",
       "      <td>0.50</td>\n",
       "      <td>201</td>\n",
       "    </tr>\n",
       "    <tr>\n",
       "      <th>237558</th>\n",
       "      <td>066.7 070.0</td>\n",
       "      <td>33.220</td>\n",
       "      <td>24.660</td>\n",
       "      <td>105.3</td>\n",
       "      <td>28.0</td>\n",
       "      <td>14.73</td>\n",
       "      <td>328.0</td>\n",
       "      <td>0.09</td>\n",
       "      <td>28</td>\n",
       "    </tr>\n",
       "    <tr>\n",
       "      <th>363234</th>\n",
       "      <td>100.0 060.0</td>\n",
       "      <td>34.106</td>\n",
       "      <td>26.654</td>\n",
       "      <td>28.4</td>\n",
       "      <td>274.0</td>\n",
       "      <td>7.46</td>\n",
       "      <td>142.3</td>\n",
       "      <td>0.61</td>\n",
       "      <td>276</td>\n",
       "    </tr>\n",
       "    <tr>\n",
       "      <th>644007</th>\n",
       "      <td>093.3 050.0</td>\n",
       "      <td>34.315</td>\n",
       "      <td>26.949</td>\n",
       "      <td>4.7</td>\n",
       "      <td>500.0</td>\n",
       "      <td>6.53</td>\n",
       "      <td>117.3</td>\n",
       "      <td>0.86</td>\n",
       "      <td>503</td>\n",
       "    </tr>\n",
       "  </tbody>\n",
       "</table>\n",
       "</div>"
      ],
      "text/plain": [
       "             Sta_ID  Salnty  STheta  O2Sat  R_Depth  R_TEMP  R_SVA  R_DYNHT  \\\n",
       "52679   020.0 030.0  31.460  22.728   86.1      0.0   17.31  511.5     0.00   \n",
       "493513  116.7 050.0  34.255  26.337   24.0    200.0   10.22  172.3     0.50   \n",
       "237558  066.7 070.0  33.220  24.660  105.3     28.0   14.73  328.0     0.09   \n",
       "363234  100.0 060.0  34.106  26.654   28.4    274.0    7.46  142.3     0.61   \n",
       "644007  093.3 050.0  34.315  26.949    4.7    500.0    6.53  117.3     0.86   \n",
       "\n",
       "        R_PRES  \n",
       "52679        0  \n",
       "493513     201  \n",
       "237558      28  \n",
       "363234     276  \n",
       "644007     503  "
      ]
     },
     "execution_count": 137,
     "metadata": {},
     "output_type": "execute_result"
    }
   ],
   "source": [
    "water_train.head()"
   ]
  },
  {
   "cell_type": "markdown",
   "id": "8b27c608",
   "metadata": {},
   "source": [
    "which brings us to the Sta_ID with roughly 2620 categories which at some level seem too large to create seperate variables for the model to utilize. In this case I'd rather go with a simpler model and discard the feature."
   ]
  },
  {
   "cell_type": "code",
   "execution_count": 138,
   "id": "2ecb7c8c",
   "metadata": {},
   "outputs": [],
   "source": [
    "stat_col = [\"Sta_ID\"]"
   ]
  },
  {
   "cell_type": "code",
   "execution_count": 139,
   "id": "36c1f1a3",
   "metadata": {},
   "outputs": [],
   "source": [
    "water_train.drop(axis=1,inplace=True, labels=stat_col)"
   ]
  },
  {
   "cell_type": "code",
   "execution_count": 140,
   "id": "3fafcf10",
   "metadata": {},
   "outputs": [],
   "source": [
    "water_train.rename(mapper={'STheta': 'density',\n",
    "                          'O2Sat': 'o2', 'R_Depth': 'depth',\n",
    "                          'R_TEMP': 'temp', 'R_SVA': 'vol_anomaly',\n",
    "                          'R_DYNHT': 'height', 'R_PRES': 'pressure',\n",
    "                          'Salnty': 'salt'},axis=1,inplace=True)"
   ]
  },
  {
   "cell_type": "code",
   "execution_count": 141,
   "id": "97920cc8",
   "metadata": {},
   "outputs": [
    {
     "data": {
      "text/html": [
       "<div>\n",
       "<style scoped>\n",
       "    .dataframe tbody tr th:only-of-type {\n",
       "        vertical-align: middle;\n",
       "    }\n",
       "\n",
       "    .dataframe tbody tr th {\n",
       "        vertical-align: top;\n",
       "    }\n",
       "\n",
       "    .dataframe thead th {\n",
       "        text-align: right;\n",
       "    }\n",
       "</style>\n",
       "<table border=\"1\" class=\"dataframe\">\n",
       "  <thead>\n",
       "    <tr style=\"text-align: right;\">\n",
       "      <th></th>\n",
       "      <th>salt</th>\n",
       "      <th>density</th>\n",
       "      <th>o2</th>\n",
       "      <th>depth</th>\n",
       "      <th>temp</th>\n",
       "      <th>vol_anomaly</th>\n",
       "      <th>height</th>\n",
       "      <th>pressure</th>\n",
       "    </tr>\n",
       "  </thead>\n",
       "  <tbody>\n",
       "    <tr>\n",
       "      <th>52679</th>\n",
       "      <td>31.460</td>\n",
       "      <td>22.728</td>\n",
       "      <td>86.1</td>\n",
       "      <td>0.0</td>\n",
       "      <td>17.31</td>\n",
       "      <td>511.5</td>\n",
       "      <td>0.00</td>\n",
       "      <td>0</td>\n",
       "    </tr>\n",
       "    <tr>\n",
       "      <th>493513</th>\n",
       "      <td>34.255</td>\n",
       "      <td>26.337</td>\n",
       "      <td>24.0</td>\n",
       "      <td>200.0</td>\n",
       "      <td>10.22</td>\n",
       "      <td>172.3</td>\n",
       "      <td>0.50</td>\n",
       "      <td>201</td>\n",
       "    </tr>\n",
       "    <tr>\n",
       "      <th>237558</th>\n",
       "      <td>33.220</td>\n",
       "      <td>24.660</td>\n",
       "      <td>105.3</td>\n",
       "      <td>28.0</td>\n",
       "      <td>14.73</td>\n",
       "      <td>328.0</td>\n",
       "      <td>0.09</td>\n",
       "      <td>28</td>\n",
       "    </tr>\n",
       "    <tr>\n",
       "      <th>363234</th>\n",
       "      <td>34.106</td>\n",
       "      <td>26.654</td>\n",
       "      <td>28.4</td>\n",
       "      <td>274.0</td>\n",
       "      <td>7.46</td>\n",
       "      <td>142.3</td>\n",
       "      <td>0.61</td>\n",
       "      <td>276</td>\n",
       "    </tr>\n",
       "    <tr>\n",
       "      <th>644007</th>\n",
       "      <td>34.315</td>\n",
       "      <td>26.949</td>\n",
       "      <td>4.7</td>\n",
       "      <td>500.0</td>\n",
       "      <td>6.53</td>\n",
       "      <td>117.3</td>\n",
       "      <td>0.86</td>\n",
       "      <td>503</td>\n",
       "    </tr>\n",
       "  </tbody>\n",
       "</table>\n",
       "</div>"
      ],
      "text/plain": [
       "          salt  density     o2  depth   temp  vol_anomaly  height  pressure\n",
       "52679   31.460   22.728   86.1    0.0  17.31        511.5    0.00         0\n",
       "493513  34.255   26.337   24.0  200.0  10.22        172.3    0.50       201\n",
       "237558  33.220   24.660  105.3   28.0  14.73        328.0    0.09        28\n",
       "363234  34.106   26.654   28.4  274.0   7.46        142.3    0.61       276\n",
       "644007  34.315   26.949    4.7  500.0   6.53        117.3    0.86       503"
      ]
     },
     "execution_count": 141,
     "metadata": {},
     "output_type": "execute_result"
    }
   ],
   "source": [
    "water_train.head()"
   ]
  },
  {
   "cell_type": "markdown",
   "id": "8025f45e",
   "metadata": {},
   "source": [
    "#### Nulls in rows"
   ]
  },
  {
   "cell_type": "markdown",
   "id": "e8a36493",
   "metadata": {},
   "source": [
    "Now that the columns amounts are highly reduced, it's time to investigate a proper technique of remedying the missing values in the rows. Lets look again at amount of values missing"
   ]
  },
  {
   "cell_type": "code",
   "execution_count": 142,
   "id": "2f5f23ae",
   "metadata": {},
   "outputs": [
    {
     "data": {
      "text/plain": [
       "salt           0.054715\n",
       "density        0.060838\n",
       "o2             0.235321\n",
       "depth          0.000000\n",
       "temp           0.012593\n",
       "vol_anomaly    0.060948\n",
       "height         0.053931\n",
       "pressure       0.000000\n",
       "dtype: float64"
      ]
     },
     "execution_count": 142,
     "metadata": {},
     "output_type": "execute_result"
    }
   ],
   "source": [
    "water_train.isna().sum() / len(water_train)"
   ]
  },
  {
   "cell_type": "markdown",
   "id": "d16bec23",
   "metadata": {},
   "source": [
    "I'll investigate distributions to come up with an optimal strategy, instead of simply removing, which would create a bias on the data"
   ]
  },
  {
   "cell_type": "code",
   "execution_count": 143,
   "id": "9c6b8bdc",
   "metadata": {},
   "outputs": [
    {
     "data": {
      "text/plain": [
       "array([[<AxesSubplot:title={'center':'salt'}>,\n",
       "        <AxesSubplot:title={'center':'density'}>,\n",
       "        <AxesSubplot:title={'center':'o2'}>],\n",
       "       [<AxesSubplot:title={'center':'depth'}>,\n",
       "        <AxesSubplot:title={'center':'temp'}>,\n",
       "        <AxesSubplot:title={'center':'vol_anomaly'}>],\n",
       "       [<AxesSubplot:title={'center':'height'}>,\n",
       "        <AxesSubplot:title={'center':'pressure'}>, <AxesSubplot:>]],\n",
       "      dtype=object)"
      ]
     },
     "execution_count": 143,
     "metadata": {},
     "output_type": "execute_result"
    },
    {
     "data": {
      "image/png": "[encoded data removed]",
      "text/plain": [
       "<Figure size 1080x1440 with 9 Axes>"
      ]
     },
     "metadata": {
      "needs_background": "light"
     },
     "output_type": "display_data"
    }
   ],
   "source": [
    "water_train.hist(bins=100, figsize=(15,20))"
   ]
  },
  {
   "cell_type": "markdown",
   "id": "467301a6",
   "metadata": {},
   "source": [
    "The histograms seem multimodal with positive skew, which makes the imputing based on mean inadequate, median might be a better option but instead I'll use KNN imputer, which will predict missing values based on the neighbors it has"
   ]
  },
  {
   "cell_type": "code",
   "execution_count": 144,
   "id": "05e77541",
   "metadata": {},
   "outputs": [],
   "source": [
    "imputer_knn = KNNImputer(n_neighbors=8, weights='distance')"
   ]
  },
  {
   "cell_type": "code",
   "execution_count": 145,
   "id": "0a897488",
   "metadata": {},
   "outputs": [],
   "source": [
    "#imputer_knn.fit_transform(water_train) \n",
    "###MemoryError: Unable to allocate 861. GiB for an array with shape (167113, 691890) and data type float64\n",
    "#I'll abort that procedure\n"
   ]
  },
  {
   "cell_type": "markdown",
   "id": "3955aa2a",
   "metadata": {},
   "source": [
    "There isn't enough computing power to perform that operation. Instead I'll use a different approach, an iterative imputer which will start from the column that has the least amount of missing values and move to the next smallest, until it reaches the final column with largest amount of missing values; in this example, o2."
   ]
  },
  {
   "cell_type": "code",
   "execution_count": 146,
   "id": "41424c2b",
   "metadata": {},
   "outputs": [],
   "source": [
    "imputer_iter = IterativeImputer(estimator=BayesianRidge())"
   ]
  },
  {
   "cell_type": "code",
   "execution_count": 147,
   "id": "ab32009e",
   "metadata": {},
   "outputs": [
    {
     "name": "stderr",
     "output_type": "stream",
     "text": [
      "C:\\Users\\Henryk-Mariusz\\anaconda3\\lib\\site-packages\\sklearn\\impute\\_iterative.py:637: ConvergenceWarning: [IterativeImputer] Early stopping criterion not reached.\n",
      "  warnings.warn(\"[IterativeImputer] Early stopping criterion not\"\n"
     ]
    }
   ],
   "source": [
    "water_train_imputed = imputer_iter.fit_transform(water_train)"
   ]
  },
  {
   "cell_type": "code",
   "execution_count": 148,
   "id": "8bd0e276",
   "metadata": {},
   "outputs": [],
   "source": [
    "water_train = pd.DataFrame(water_train_imputed, columns=water_train.columns)"
   ]
  },
  {
   "cell_type": "code",
   "execution_count": 149,
   "id": "89ecddcf",
   "metadata": {},
   "outputs": [
    {
     "name": "stdout",
     "output_type": "stream",
     "text": [
      "Percentage of null values per column\n",
      "salt           0.0\n",
      "density        0.0\n",
      "o2             0.0\n",
      "depth          0.0\n",
      "temp           0.0\n",
      "vol_anomaly    0.0\n",
      "height         0.0\n",
      "pressure       0.0\n",
      "dtype: float64\n",
      "8 columns, 0 with at least 25.0% of missing values\n"
     ]
    },
    {
     "data": {
      "text/plain": [
       "[]"
      ]
     },
     "execution_count": 149,
     "metadata": {},
     "output_type": "execute_result"
    }
   ],
   "source": [
    "get_info(water_train,0.25)"
   ]
  },
  {
   "cell_type": "markdown",
   "id": "a9ea9ddb",
   "metadata": {},
   "source": [
    "The imputation worked, lets move forward with the analysis"
   ]
  },
  {
   "cell_type": "markdown",
   "id": "e3ae2127",
   "metadata": {},
   "source": [
    "## Splitting the data into independent  and dependent sets"
   ]
  },
  {
   "cell_type": "markdown",
   "id": "e1342b1f",
   "metadata": {},
   "source": [
    "I waited this long to perform that operation because I've tried different places, eventually concluded that since there's roughly 25% of missing data in dependent variable I don't want to remove it such a large chunk, and instead I'll perform an iterative procedure which estimates the lowest missing count and climbs up all the way to the column with the highest missing amount. If I split the data before this method would be not available, and instead I'll have to resort to a simple imputer, or perhaps to remove observations."
   ]
  },
  {
   "cell_type": "code",
   "execution_count": 150,
   "id": "3c37e266",
   "metadata": {},
   "outputs": [
    {
     "data": {
      "text/plain": [
       "Index(['salt', 'density', 'o2', 'depth', 'temp', 'vol_anomaly', 'height',\n",
       "       'pressure'],\n",
       "      dtype='object')"
      ]
     },
     "execution_count": 150,
     "metadata": {},
     "output_type": "execute_result"
    }
   ],
   "source": [
    "water_train.columns"
   ]
  },
  {
   "cell_type": "code",
   "execution_count": 151,
   "id": "e4f177e3",
   "metadata": {},
   "outputs": [],
   "source": [
    "y_train =  water_train['salt']\n",
    "water_train_data = water_train.drop(['salt'], inplace=False, axis=1)"
   ]
  },
  {
   "cell_type": "code",
   "execution_count": 153,
   "id": "9ef2eec5",
   "metadata": {},
   "outputs": [
    {
     "name": "stderr",
     "output_type": "stream",
     "text": [
      "C:\\Users\\Henryk-Mariusz\\anaconda3\\lib\\site-packages\\pandas\\core\\frame.py:5039: SettingWithCopyWarning: \n",
      "A value is trying to be set on a copy of a slice from a DataFrame\n",
      "\n",
      "See the caveats in the documentation: https://pandas.pydata.org/pandas-docs/stable/user_guide/indexing.html#returning-a-view-versus-a-copy\n",
      "  return super().rename(\n"
     ]
    }
   ],
   "source": [
    "X_test.rename(mapper={'STheta': 'density',\n",
    "                          'O2Sat': 'o2', 'R_Depth': 'depth',\n",
    "                          'R_TEMP': 'temp', 'R_SVA': 'vol_anomaly',\n",
    "                          'R_DYNHT': 'height', 'R_PRES': 'pressure',\n",
    "                          'Salnty': 'salt'},axis=1,inplace=True)"
   ]
  },
  {
   "cell_type": "code",
   "execution_count": 154,
   "id": "666d50fc",
   "metadata": {},
   "outputs": [],
   "source": [
    "X_test_data = X_test.drop(['salt'],axis=1,inplace=False)"
   ]
  },
  {
   "cell_type": "code",
   "execution_count": 156,
   "id": "66a2a822",
   "metadata": {},
   "outputs": [],
   "source": [
    "y_test = X_test['salt']"
   ]
  },
  {
   "cell_type": "markdown",
   "id": "7f2f9b1a",
   "metadata": {},
   "source": [
    "## Visualization and Transformation"
   ]
  },
  {
   "cell_type": "markdown",
   "id": "f8953907",
   "metadata": {},
   "source": [
    "I'll focus on the inspection of visuals and implementation of remedial measures. Previously I looked at the histograms and concluded there's skeweness as well as multimodality. I'd like to come up with strategies to overcome that. Before I proceed I'd like standardize the data to be plotted in the same axes."
   ]
  },
  {
   "cell_type": "code",
   "execution_count": 157,
   "id": "9d00ffb4",
   "metadata": {},
   "outputs": [],
   "source": [
    "scaler = StandardScaler()"
   ]
  },
  {
   "cell_type": "code",
   "execution_count": 158,
   "id": "520b7ba0",
   "metadata": {},
   "outputs": [
    {
     "data": {
      "text/plain": [
       "StandardScaler(copy=True, with_mean=True, with_std=True)"
      ]
     },
     "execution_count": 158,
     "metadata": {},
     "output_type": "execute_result"
    }
   ],
   "source": [
    "scaler.fit(water_train_data)"
   ]
  },
  {
   "cell_type": "code",
   "execution_count": 159,
   "id": "1ad3a897",
   "metadata": {},
   "outputs": [],
   "source": [
    "water_train_scaled = scaler.transform(water_train_data)"
   ]
  },
  {
   "cell_type": "code",
   "execution_count": 160,
   "id": "e6d420a0",
   "metadata": {},
   "outputs": [],
   "source": [
    "water_trained_columns = water_train.drop(labels='salt',axis=1,inplace=False).columns"
   ]
  },
  {
   "cell_type": "code",
   "execution_count": 161,
   "id": "e4ba9ce3",
   "metadata": {},
   "outputs": [],
   "source": [
    "water_train_data = pd.DataFrame(water_train_scaled, columns=water_trained_columns)"
   ]
  },
  {
   "cell_type": "code",
   "execution_count": 162,
   "id": "1ee3fc49",
   "metadata": {},
   "outputs": [
    {
     "data": {
      "image/png": "[encoded data removed]",
      "text/plain": [
       "<Figure size 1080x1080 with 14 Axes>"
      ]
     },
     "metadata": {
      "needs_background": "light"
     },
     "output_type": "display_data"
    }
   ],
   "source": [
    "columns = water_train_data.columns\n",
    "col_count = len(columns)\n",
    "\n",
    "#Add x=var for differentiation across the x axis\n",
    "\n",
    "fig, axes = plt.subplots(col_count, 2, figsize=(15, 15))\n",
    "\n",
    "for row, var in enumerate(columns):\n",
    "    sns.boxplot(y=var, data=water_train_data, ax=axes[row, 0])\n",
    "    sns.violinplot(y=var, data=water_train_data, ax=axes[row, 1])\n",
    "\n",
    "plt.show()"
   ]
  },
  {
   "cell_type": "markdown",
   "id": "47f4cdb3",
   "metadata": {},
   "source": [
    "There seem to be an impact of outliers, it's especially visible when looking at the boxplots. I'll use quantile transformation to both, improve the normaltiy which seems violated in violinplots, and the outliers. "
   ]
  },
  {
   "cell_type": "markdown",
   "id": "c3fd6a13",
   "metadata": {},
   "source": [
    "The above violin plots capture the skewness, multimodality, as well as overall distribution of values. To remedy that I'd like to apply quantile transformation that will shrink perhaps present residuals"
   ]
  },
  {
   "cell_type": "code",
   "execution_count": 163,
   "id": "e6dcb554",
   "metadata": {},
   "outputs": [
    {
     "data": {
      "text/plain": [
       "density        48.727645\n",
       "o2              0.018538\n",
       "depth           4.501186\n",
       "temp            0.484147\n",
       "vol_anomaly     0.426892\n",
       "height          1.536239\n",
       "pressure        4.541542\n",
       "dtype: float64"
      ]
     },
     "execution_count": 163,
     "metadata": {},
     "output_type": "execute_result"
    }
   ],
   "source": [
    "water_train_data.skew()"
   ]
  },
  {
   "cell_type": "code",
   "execution_count": 164,
   "id": "d5f9f4b5",
   "metadata": {},
   "outputs": [],
   "source": [
    "qt_transf = QuantileTransformer(random_state=42, output_distribution='normal')"
   ]
  },
  {
   "cell_type": "code",
   "execution_count": 165,
   "id": "03c85fe7",
   "metadata": {},
   "outputs": [],
   "source": [
    "water_train_temp = qt_transf.fit_transform(water_train_data)"
   ]
  },
  {
   "cell_type": "code",
   "execution_count": 166,
   "id": "05888184",
   "metadata": {},
   "outputs": [],
   "source": [
    "#water_train_qt = quantile_transform(water_train, random_state=42, output_distribution='normal', copy=True)"
   ]
  },
  {
   "cell_type": "code",
   "execution_count": 167,
   "id": "da41e76a",
   "metadata": {},
   "outputs": [],
   "source": [
    "water_train_qt = pd.DataFrame(water_train_temp, columns=water_train_data.columns)"
   ]
  },
  {
   "cell_type": "code",
   "execution_count": 168,
   "id": "f95603ba",
   "metadata": {},
   "outputs": [],
   "source": [
    "water_train = water_train_qt"
   ]
  },
  {
   "cell_type": "code",
   "execution_count": 169,
   "id": "ac06b1ba",
   "metadata": {},
   "outputs": [
    {
     "data": {
      "image/png": "[encoded data removed]",
      "text/plain": [
       "<Figure size 1080x1080 with 14 Axes>"
      ]
     },
     "metadata": {
      "needs_background": "light"
     },
     "output_type": "display_data"
    }
   ],
   "source": [
    "columns = water_train.columns\n",
    "col_count = len(columns)\n",
    "\n",
    "#Add x=var for differentiation across the x axis\n",
    "\n",
    "fig, axes = plt.subplots(col_count, 2, figsize=(15, 15))\n",
    "\n",
    "for row, var in enumerate(columns):\n",
    "    sns.boxplot(y=var, data=water_train, ax=axes[row, 0])\n",
    "    sns.violinplot(y=var, data=water_train, ax=axes[row, 1])\n",
    "\n",
    "plt.show()"
   ]
  },
  {
   "cell_type": "code",
   "execution_count": 170,
   "id": "53d2d30e",
   "metadata": {},
   "outputs": [
    {
     "data": {
      "text/plain": [
       "density       -0.010647\n",
       "o2             0.005922\n",
       "depth         -1.749557\n",
       "temp          -0.000019\n",
       "vol_anomaly    0.002388\n",
       "height        -1.719534\n",
       "pressure      -1.739826\n",
       "dtype: float64"
      ]
     },
     "execution_count": 170,
     "metadata": {},
     "output_type": "execute_result"
    }
   ],
   "source": [
    "water_train.skew()"
   ]
  },
  {
   "cell_type": "markdown",
   "id": "c90ca2f8",
   "metadata": {},
   "source": [
    "## Outliers"
   ]
  },
  {
   "cell_type": "markdown",
   "id": "4be907a5",
   "metadata": {},
   "source": [
    "There's a slight improvement in skeweness and an amazing outcome in multimodality reduction and general distribution that seems normal. However, there seem to exist outliers(under performers) in features depth, height, pressure and I'd like to address those further. At some level I'm amazed that quartile transform didn't squish those observations"
   ]
  },
  {
   "cell_type": "code",
   "execution_count": 171,
   "id": "4a24c7f9",
   "metadata": {},
   "outputs": [],
   "source": [
    "outliers_pressure = water_train[water_train['pressure'] < -4]"
   ]
  },
  {
   "cell_type": "code",
   "execution_count": 172,
   "id": "822c5c54",
   "metadata": {},
   "outputs": [
    {
     "data": {
      "text/plain": [
       "26639"
      ]
     },
     "execution_count": 172,
     "metadata": {},
     "output_type": "execute_result"
    }
   ],
   "source": [
    "len(outliers_pressure)"
   ]
  },
  {
   "cell_type": "code",
   "execution_count": 173,
   "id": "635c1e33",
   "metadata": {},
   "outputs": [
    {
     "data": {
      "text/plain": [
       "<AxesSubplot:>"
      ]
     },
     "execution_count": 173,
     "metadata": {},
     "output_type": "execute_result"
    },
    {
     "data": {
      "image/png": "[encoded data removed]",
      "text/plain": [
       "<Figure size 720x1080 with 1 Axes>"
      ]
     },
     "metadata": {
      "needs_background": "light"
     },
     "output_type": "display_data"
    }
   ],
   "source": [
    "water_train.pressure.hist(bins=100,figsize=(10,15))"
   ]
  },
  {
   "cell_type": "code",
   "execution_count": 174,
   "id": "05473458",
   "metadata": {},
   "outputs": [],
   "source": [
    "outliers_depth = water_train[water_train.depth < -4] "
   ]
  },
  {
   "cell_type": "code",
   "execution_count": 175,
   "id": "4ae0cbf0",
   "metadata": {},
   "outputs": [
    {
     "data": {
      "text/plain": [
       "26639"
      ]
     },
     "execution_count": 175,
     "metadata": {},
     "output_type": "execute_result"
    }
   ],
   "source": [
    "len(outliers_depth)"
   ]
  },
  {
   "cell_type": "code",
   "execution_count": 176,
   "id": "406f5562",
   "metadata": {},
   "outputs": [
    {
     "data": {
      "text/plain": [
       "<AxesSubplot:>"
      ]
     },
     "execution_count": 176,
     "metadata": {},
     "output_type": "execute_result"
    },
    {
     "data": {
      "image/png": "[encoded data removed]",
      "text/plain": [
       "<Figure size 720x1080 with 1 Axes>"
      ]
     },
     "metadata": {
      "needs_background": "light"
     },
     "output_type": "display_data"
    }
   ],
   "source": [
    "water_train.depth.hist(bins=100,figsize=(10,15))"
   ]
  },
  {
   "cell_type": "code",
   "execution_count": 179,
   "id": "7d6a6839",
   "metadata": {},
   "outputs": [],
   "source": [
    "water_train['salt'] = y_train"
   ]
  },
  {
   "cell_type": "markdown",
   "id": "79b99e0f",
   "metadata": {},
   "source": [
    "To avoid splitting back and forth, I can reorder the columns to have a response variable on the top of the list, it won't change the order"
   ]
  },
  {
   "cell_type": "code",
   "execution_count": 180,
   "id": "3fef0e2e",
   "metadata": {},
   "outputs": [],
   "source": [
    "outliers_height = water_train[water_train.height < -4]"
   ]
  },
  {
   "cell_type": "code",
   "execution_count": 181,
   "id": "a2a9317c",
   "metadata": {},
   "outputs": [
    {
     "data": {
      "text/plain": [
       "25917"
      ]
     },
     "execution_count": 181,
     "metadata": {},
     "output_type": "execute_result"
    }
   ],
   "source": [
    "len(outliers_height)"
   ]
  },
  {
   "cell_type": "code",
   "execution_count": 182,
   "id": "3587bf7b",
   "metadata": {},
   "outputs": [
    {
     "data": {
      "text/plain": [
       "<AxesSubplot:>"
      ]
     },
     "execution_count": 182,
     "metadata": {},
     "output_type": "execute_result"
    },
    {
     "data": {
      "image/png": "[encoded data removed]",
      "text/plain": [
       "<Figure size 720x1080 with 1 Axes>"
      ]
     },
     "metadata": {
      "needs_background": "light"
     },
     "output_type": "display_data"
    }
   ],
   "source": [
    "water_train.height.hist(bins=100,figsize=(10,15))"
   ]
  },
  {
   "cell_type": "markdown",
   "id": "0f98e943",
   "metadata": {},
   "source": [
    "It seems each of the three columns contains roughly the same amount of outliers, and their distributions looks quite alike. I would judghe they're highly correlated and would eventually cause the multicollinearity issue down the line. Also, since the outliers seem to appear only to the left skew, which seemingly seem discountinued I would say that the specific station caused an error in measurement. "
   ]
  },
  {
   "cell_type": "code",
   "execution_count": 183,
   "id": "c4bb0c58",
   "metadata": {},
   "outputs": [],
   "source": [
    "water_train_no_outliers = water_train[water_train.pressure > -4]"
   ]
  },
  {
   "cell_type": "code",
   "execution_count": 184,
   "id": "6fd37d6d",
   "metadata": {},
   "outputs": [
    {
     "data": {
      "text/plain": [
       "density       -0.008662\n",
       "o2             0.011382\n",
       "depth          0.294381\n",
       "temp           0.004439\n",
       "vol_anomaly    0.001503\n",
       "height         0.279194\n",
       "pressure       0.293903\n",
       "salt          -0.025590\n",
       "dtype: float64"
      ]
     },
     "execution_count": 184,
     "metadata": {},
     "output_type": "execute_result"
    }
   ],
   "source": [
    "water_train_no_outliers.skew()"
   ]
  },
  {
   "cell_type": "markdown",
   "id": "9b8725dc",
   "metadata": {},
   "source": [
    "This took care of the outliers causing skewness with removing observations that are smaller than 4 SD's from the mean"
   ]
  },
  {
   "cell_type": "markdown",
   "id": "795d009f",
   "metadata": {},
   "source": [
    "That brings me to another step, investigating correlations as I obsrved common distributions shapes in features density, depth, pressure, and height. At some level I'm already suspecting them to be highly correlated since a pressure is a function of height, depth, and density of the water seems related to it as well"
   ]
  },
  {
   "cell_type": "code",
   "execution_count": 185,
   "id": "25b9d7e3",
   "metadata": {},
   "outputs": [],
   "source": [
    "corr_water = water_train.corr()"
   ]
  },
  {
   "cell_type": "code",
   "execution_count": 186,
   "id": "e5bb890b",
   "metadata": {},
   "outputs": [
    {
     "data": {
      "text/plain": [
       "<AxesSubplot:>"
      ]
     },
     "execution_count": 186,
     "metadata": {},
     "output_type": "execute_result"
    },
    {
     "data": {
      "image/png": "[encoded data removed]",
      "text/plain": [
       "<Figure size 432x288 with 2 Axes>"
      ]
     },
     "metadata": {
      "needs_background": "light"
     },
     "output_type": "display_data"
    }
   ],
   "source": [
    "sns.heatmap(corr_water,\n",
    "           xticklabels=corr_water.columns,\n",
    "           yticklabels=corr_water.columns,\n",
    "           annot=True, linewidths=0.5)"
   ]
  },
  {
   "cell_type": "markdown",
   "id": "fd0df449",
   "metadata": {},
   "source": [
    "Just as we thought, by looking at the correlation heatmap we can see that height and pressure, height and depth are the same thing. Lets leave it for now, as I'd like to explore feature importance later on and experiment with yellowbrick library that gives more visual representation"
   ]
  },
  {
   "cell_type": "code",
   "execution_count": 187,
   "id": "3e4f4561",
   "metadata": {},
   "outputs": [],
   "source": [
    "def get_vif(exogs, data):\n",
    "    '''Return VIF (variance inflation factor) DataFrame\n",
    "\n",
    "    Args:\n",
    "    exogs (list): list of exogenous/independent variables\n",
    "    data (DataFrame): the df storing all variables\n",
    "\n",
    "    Returns:\n",
    "    VIF and Tolerance DataFrame for each exogenous variable\n",
    "\n",
    "    Notes:\n",
    "    Assume we have a list of exogenous variable [X1, X2, X3, X4].\n",
    "    To calculate the VIF and Tolerance for each variable, we regress\n",
    "    each of them against other exogenous variables. For instance, the\n",
    "    regression model for X3 is defined as:\n",
    "                        X3 ~ X1 + X2 + X4\n",
    "    And then we extract the R-squared from the model to calculate:\n",
    "                    VIF = 1 / (1 - R-squared)\n",
    "                    Tolerance = 1 - R-squared\n",
    "    The cutoff to detect multicollinearity:\n",
    "                    VIF > 10 or Tolerance < 0.1\n",
    "    '''\n",
    "\n",
    "    # initialize dictionaries\n",
    "    vif_dict, tolerance_dict = {}, {}\n",
    "\n",
    "    # create formula for each exogenous variable\n",
    "    for exog in exogs:\n",
    "        not_exog = [i for i in exogs if i != exog]\n",
    "        formula = f\"{exog} ~ {' + '.join(not_exog)}\"\n",
    "\n",
    "        # extract r-squared from the fit\n",
    "        r_squared = smf.ols(formula, data=data).fit().rsquared\n",
    "\n",
    "        # calculate VIF\n",
    "        vif = 1/(1 - r_squared)\n",
    "        vif_dict[exog] = vif\n",
    "\n",
    "        # calculate tolerance\n",
    "        tolerance = 1 - r_squared\n",
    "        tolerance_dict[exog] = tolerance\n",
    "\n",
    "    # return VIF DataFrame\n",
    "    df_vif = pd.DataFrame({'VIF': vif_dict, 'Tolerance': tolerance_dict})\n",
    "\n",
    "    return df_vif\n"
   ]
  },
  {
   "cell_type": "code",
   "execution_count": 188,
   "id": "0e48c5b6",
   "metadata": {},
   "outputs": [],
   "source": [
    "water_train = water_train_no_outliers.copy()"
   ]
  },
  {
   "cell_type": "code",
   "execution_count": 189,
   "id": "8a9e34a5",
   "metadata": {},
   "outputs": [],
   "source": [
    "exogs = water_train.columns"
   ]
  },
  {
   "cell_type": "code",
   "execution_count": 190,
   "id": "40c23c93",
   "metadata": {},
   "outputs": [],
   "source": [
    "vifs = get_vif(exogs=exogs,data=water_train)"
   ]
  },
  {
   "cell_type": "code",
   "execution_count": 191,
   "id": "567a4a26",
   "metadata": {},
   "outputs": [
    {
     "data": {
      "text/html": [
       "<div>\n",
       "<style scoped>\n",
       "    .dataframe tbody tr th:only-of-type {\n",
       "        vertical-align: middle;\n",
       "    }\n",
       "\n",
       "    .dataframe tbody tr th {\n",
       "        vertical-align: top;\n",
       "    }\n",
       "\n",
       "    .dataframe thead th {\n",
       "        text-align: right;\n",
       "    }\n",
       "</style>\n",
       "<table border=\"1\" class=\"dataframe\">\n",
       "  <thead>\n",
       "    <tr style=\"text-align: right;\">\n",
       "      <th></th>\n",
       "      <th>VIF</th>\n",
       "      <th>Tolerance</th>\n",
       "    </tr>\n",
       "  </thead>\n",
       "  <tbody>\n",
       "    <tr>\n",
       "      <th>density</th>\n",
       "      <td>1976.728882</td>\n",
       "      <td>0.000506</td>\n",
       "    </tr>\n",
       "    <tr>\n",
       "      <th>o2</th>\n",
       "      <td>6.117945</td>\n",
       "      <td>0.163454</td>\n",
       "    </tr>\n",
       "    <tr>\n",
       "      <th>depth</th>\n",
       "      <td>3544.479673</td>\n",
       "      <td>0.000282</td>\n",
       "    </tr>\n",
       "    <tr>\n",
       "      <th>temp</th>\n",
       "      <td>57.236682</td>\n",
       "      <td>0.017471</td>\n",
       "    </tr>\n",
       "    <tr>\n",
       "      <th>vol_anomaly</th>\n",
       "      <td>2231.612029</td>\n",
       "      <td>0.000448</td>\n",
       "    </tr>\n",
       "    <tr>\n",
       "      <th>height</th>\n",
       "      <td>47.980033</td>\n",
       "      <td>0.020842</td>\n",
       "    </tr>\n",
       "    <tr>\n",
       "      <th>pressure</th>\n",
       "      <td>3383.210572</td>\n",
       "      <td>0.000296</td>\n",
       "    </tr>\n",
       "    <tr>\n",
       "      <th>salt</th>\n",
       "      <td>7.590755</td>\n",
       "      <td>0.131739</td>\n",
       "    </tr>\n",
       "  </tbody>\n",
       "</table>\n",
       "</div>"
      ],
      "text/plain": [
       "                     VIF  Tolerance\n",
       "density      1976.728882   0.000506\n",
       "o2              6.117945   0.163454\n",
       "depth        3544.479673   0.000282\n",
       "temp           57.236682   0.017471\n",
       "vol_anomaly  2231.612029   0.000448\n",
       "height         47.980033   0.020842\n",
       "pressure     3383.210572   0.000296\n",
       "salt            7.590755   0.131739"
      ]
     },
     "execution_count": 191,
     "metadata": {},
     "output_type": "execute_result"
    }
   ],
   "source": [
    "vifs"
   ]
  },
  {
   "cell_type": "code",
   "execution_count": 192,
   "id": "e770d4b6",
   "metadata": {},
   "outputs": [],
   "source": [
    "X_train = water_train.drop(['salt'], axis=1, inplace=False)\n",
    "y_train = water_train.salt"
   ]
  },
  {
   "cell_type": "markdown",
   "id": "5fc232cc",
   "metadata": {},
   "source": [
    "Just as I thought. Instead of proceeding to remove the most severe features lets keep in mind that some regression models are robust and handle multicollinearity much better. "
   ]
  },
  {
   "cell_type": "markdown",
   "id": "fba58806",
   "metadata": {},
   "source": [
    "## Making a Pipeline and Prepping test set"
   ]
  },
  {
   "cell_type": "markdown",
   "id": "ee248013",
   "metadata": {},
   "source": [
    "Before I jump into the model selection lets prepare a pipeline that'll create all the necessary transformations for the test set, and develop a practice in pipeline creation. Getting familiar with the process of creating pipelines will help me get familiar with the procedure and eventually lead me down the path of a better automation of the procedures"
   ]
  },
  {
   "cell_type": "markdown",
   "id": "b865c4a1",
   "metadata": {},
   "source": [
    "There is a list of columns to be removed before it goes to the pipeline"
   ]
  },
  {
   "cell_type": "code",
   "execution_count": 193,
   "id": "63ff1b94",
   "metadata": {},
   "outputs": [],
   "source": [
    "rm_cols = (list(corr_matr_index_drop) + list(empty_cols) + list(insign_cols) + \n",
    "           list(doubles_cols) + list(unpredictive_cols) + stat_col)"
   ]
  },
  {
   "cell_type": "code",
   "execution_count": 194,
   "id": "f0bc494b",
   "metadata": {},
   "outputs": [],
   "source": [
    "X_test_data.rename(mapper={'STheta': 'density',\n",
    "                          'O2Sat': 'o2', 'R_Depth': 'depth',\n",
    "                          'R_TEMP': 'temp', 'R_SVA': 'vol_anomaly',\n",
    "                          'R_DYNHT': 'height', 'R_PRES': 'pressure',\n",
    "                          'Salnty': 'salt'},axis=1,inplace=True)"
   ]
  },
  {
   "cell_type": "code",
   "execution_count": 195,
   "id": "f1bc3953",
   "metadata": {},
   "outputs": [
    {
     "data": {
      "text/plain": [
       "Index(['Cst_Cnt', 'Btl_Cnt', 'Sta_ID', 'Depth_ID', 'Depthm', 'T_degC',\n",
       "       'O2ml_L', 'density', 'o2', 'Oxy_µmol/Kg', 'BtlNum', 'RecInd', 'T_prec',\n",
       "       'T_qual', 'S_prec', 'S_qual', 'P_qual', 'O_qual', 'SThtaq', 'O2Satq',\n",
       "       'ChlorA', 'Chlqua', 'Phaeop', 'Phaqua', 'PO4uM', 'PO4q', 'SiO3uM',\n",
       "       'SiO3qu', 'NO2uM', 'NO2q', 'NO3uM', 'NO3q', 'NH3uM', 'NH3q', 'C14As1',\n",
       "       'C14A1p', 'C14A1q', 'C14As2', 'C14A2p', 'C14A2q', 'DarkAs', 'DarkAp',\n",
       "       'DarkAq', 'MeanAs', 'MeanAp', 'MeanAq', 'IncTim', 'LightP', 'depth',\n",
       "       'temp', 'R_POTEMP', 'R_SALINITY', 'R_SIGMA', 'vol_anomaly', 'height',\n",
       "       'R_O2', 'R_O2Sat', 'R_SIO3', 'R_PO4', 'R_NO3', 'R_NO2', 'R_NH4',\n",
       "       'R_CHLA', 'R_PHAEO', 'pressure', 'R_SAMP', 'DIC1', 'DIC2', 'TA1', 'TA2',\n",
       "       'pH2', 'pH1', 'DIC Quality Comment'],\n",
       "      dtype='object')"
      ]
     },
     "execution_count": 195,
     "metadata": {},
     "output_type": "execute_result"
    }
   ],
   "source": [
    "X_test_data.columns"
   ]
  },
  {
   "cell_type": "code",
   "execution_count": 196,
   "id": "a9b1dc2f",
   "metadata": {
    "scrolled": false
   },
   "outputs": [],
   "source": [
    "X_test_data.drop(labels=rm_cols, axis=1, inplace=True)"
   ]
  },
  {
   "cell_type": "code",
   "execution_count": 197,
   "id": "054ba2f5",
   "metadata": {},
   "outputs": [],
   "source": [
    "num_cols = list(X_test_data.columns)"
   ]
  },
  {
   "cell_type": "code",
   "execution_count": 198,
   "id": "a8052dbd",
   "metadata": {},
   "outputs": [
    {
     "data": {
      "text/plain": [
       "['density', 'o2', 'depth', 'temp', 'vol_anomaly', 'height', 'pressure']"
      ]
     },
     "execution_count": 198,
     "metadata": {},
     "output_type": "execute_result"
    }
   ],
   "source": [
    "num_cols"
   ]
  },
  {
   "cell_type": "code",
   "execution_count": 291,
   "id": "61dd6fc1",
   "metadata": {},
   "outputs": [],
   "source": [
    "X_test_data['salt'] = y_test"
   ]
  },
  {
   "cell_type": "code",
   "execution_count": 292,
   "id": "a81f2507",
   "metadata": {},
   "outputs": [],
   "source": [
    "x_and_y_impute = Pipeline([\n",
    "    ('imp', IterativeImputer(estimator=BayesianRidge()))\n",
    "])"
   ]
  },
  {
   "cell_type": "code",
   "execution_count": 293,
   "id": "f88ab95a",
   "metadata": {},
   "outputs": [
    {
     "name": "stderr",
     "output_type": "stream",
     "text": [
      "C:\\Users\\Henryk-Mariusz\\anaconda3\\lib\\site-packages\\sklearn\\impute\\_iterative.py:637: ConvergenceWarning: [IterativeImputer] Early stopping criterion not reached.\n",
      "  warnings.warn(\"[IterativeImputer] Early stopping criterion not\"\n"
     ]
    }
   ],
   "source": [
    "X_test_data2 = x_and_y_impute.fit_transform(X_test_data)"
   ]
  },
  {
   "cell_type": "code",
   "execution_count": 294,
   "id": "71d58625",
   "metadata": {},
   "outputs": [],
   "source": [
    "X_test_data2 = pd.DataFrame(X_test_data2, columns=X_test_data.columns)"
   ]
  },
  {
   "cell_type": "code",
   "execution_count": 295,
   "id": "463e7e7b",
   "metadata": {},
   "outputs": [],
   "source": [
    "y_test = X_test_data2.salt\n",
    "#X_test_data2.drop('salt',axis=1,inplace=True)"
   ]
  },
  {
   "cell_type": "code",
   "execution_count": 296,
   "id": "b9e81d9e",
   "metadata": {},
   "outputs": [],
   "source": [
    "num_pipe = Pipeline([\n",
    "    ('imp', IterativeImputer(estimator=BayesianRidge())),\n",
    "    ('scale', StandardScaler()),\n",
    "    ('q_transf', QuantileTransformer(random_state=42, output_distribution='normal'))    \n",
    "])"
   ]
  },
  {
   "cell_type": "code",
   "execution_count": 297,
   "id": "1ba16c2e",
   "metadata": {},
   "outputs": [],
   "source": [
    "full_pipe = ColumnTransformer([\n",
    "    ('num_transf', num_pipe, num_cols),\n",
    "    #('drop_cols', 'drop', rm_cols)\n",
    "])"
   ]
  },
  {
   "cell_type": "code",
   "execution_count": 298,
   "id": "aadbcfe8",
   "metadata": {},
   "outputs": [],
   "source": [
    "X_test_rdy = full_pipe.fit_transform(X_test_data)"
   ]
  },
  {
   "cell_type": "markdown",
   "id": "08170044",
   "metadata": {},
   "source": [
    "## Model Baseline"
   ]
  },
  {
   "cell_type": "markdown",
   "id": "08fdc76b",
   "metadata": {},
   "source": [
    "#### Linear Regression"
   ]
  },
  {
   "cell_type": "code",
   "execution_count": 208,
   "id": "468f61fa",
   "metadata": {},
   "outputs": [
    {
     "data": {
      "text/html": [
       "<div>\n",
       "<style scoped>\n",
       "    .dataframe tbody tr th:only-of-type {\n",
       "        vertical-align: middle;\n",
       "    }\n",
       "\n",
       "    .dataframe tbody tr th {\n",
       "        vertical-align: top;\n",
       "    }\n",
       "\n",
       "    .dataframe thead th {\n",
       "        text-align: right;\n",
       "    }\n",
       "</style>\n",
       "<table border=\"1\" class=\"dataframe\">\n",
       "  <thead>\n",
       "    <tr style=\"text-align: right;\">\n",
       "      <th></th>\n",
       "      <th>density</th>\n",
       "      <th>o2</th>\n",
       "      <th>depth</th>\n",
       "      <th>temp</th>\n",
       "      <th>vol_anomaly</th>\n",
       "      <th>height</th>\n",
       "      <th>pressure</th>\n",
       "    </tr>\n",
       "  </thead>\n",
       "  <tbody>\n",
       "    <tr>\n",
       "      <th>1</th>\n",
       "      <td>0.300105</td>\n",
       "      <td>-0.664287</td>\n",
       "      <td>0.342823</td>\n",
       "      <td>0.026349</td>\n",
       "      <td>-0.296607</td>\n",
       "      <td>0.372246</td>\n",
       "      <td>0.338834</td>\n",
       "    </tr>\n",
       "    <tr>\n",
       "      <th>2</th>\n",
       "      <td>-1.045853</td>\n",
       "      <td>1.644369</td>\n",
       "      <td>-0.931971</td>\n",
       "      <td>0.849874</td>\n",
       "      <td>1.035790</td>\n",
       "      <td>-0.939747</td>\n",
       "      <td>-0.939747</td>\n",
       "    </tr>\n",
       "    <tr>\n",
       "      <th>3</th>\n",
       "      <td>0.723050</td>\n",
       "      <td>-0.559521</td>\n",
       "      <td>0.605955</td>\n",
       "      <td>-0.744694</td>\n",
       "      <td>-0.741388</td>\n",
       "      <td>0.596935</td>\n",
       "      <td>0.602943</td>\n",
       "    </tr>\n",
       "    <tr>\n",
       "      <th>4</th>\n",
       "      <td>1.181921</td>\n",
       "      <td>-1.733071</td>\n",
       "      <td>1.118711</td>\n",
       "      <td>-1.002056</td>\n",
       "      <td>-1.186981</td>\n",
       "      <td>1.086456</td>\n",
       "      <td>1.152175</td>\n",
       "    </tr>\n",
       "    <tr>\n",
       "      <th>5</th>\n",
       "      <td>0.369110</td>\n",
       "      <td>-0.670557</td>\n",
       "      <td>0.080379</td>\n",
       "      <td>-0.229064</td>\n",
       "      <td>-0.390721</td>\n",
       "      <td>-0.052898</td>\n",
       "      <td>0.079120</td>\n",
       "    </tr>\n",
       "  </tbody>\n",
       "</table>\n",
       "</div>"
      ],
      "text/plain": [
       "    density        o2     depth      temp  vol_anomaly    height  pressure\n",
       "1  0.300105 -0.664287  0.342823  0.026349    -0.296607  0.372246  0.338834\n",
       "2 -1.045853  1.644369 -0.931971  0.849874     1.035790 -0.939747 -0.939747\n",
       "3  0.723050 -0.559521  0.605955 -0.744694    -0.741388  0.596935  0.602943\n",
       "4  1.181921 -1.733071  1.118711 -1.002056    -1.186981  1.086456  1.152175\n",
       "5  0.369110 -0.670557  0.080379 -0.229064    -0.390721 -0.052898  0.079120"
      ]
     },
     "execution_count": 208,
     "metadata": {},
     "output_type": "execute_result"
    }
   ],
   "source": [
    "water_train.head()"
   ]
  },
  {
   "cell_type": "code",
   "execution_count": 207,
   "id": "f3a525b4",
   "metadata": {},
   "outputs": [],
   "source": [
    "water_train.drop(['salt'],axis=1,inplace=True)"
   ]
  },
  {
   "cell_type": "code",
   "execution_count": 210,
   "id": "f055a572",
   "metadata": {},
   "outputs": [
    {
     "data": {
      "text/plain": [
       "LinearRegression(copy_X=True, fit_intercept=True, n_jobs=None, normalize=False)"
      ]
     },
     "execution_count": 210,
     "metadata": {},
     "output_type": "execute_result"
    }
   ],
   "source": [
    "lr = LinearRegression()\n",
    "lr.fit(water_train,y_train)"
   ]
  },
  {
   "cell_type": "code",
   "execution_count": 211,
   "id": "cdbcde8c",
   "metadata": {},
   "outputs": [],
   "source": [
    "y_pred = lr.predict(water_train)"
   ]
  },
  {
   "cell_type": "code",
   "execution_count": 212,
   "id": "73a34fc6",
   "metadata": {},
   "outputs": [
    {
     "data": {
      "text/plain": [
       "0.16544054049468315"
      ]
     },
     "execution_count": 212,
     "metadata": {},
     "output_type": "execute_result"
    }
   ],
   "source": [
    "mean_squared_error(y_train,y_pred,squared=False)"
   ]
  },
  {
   "cell_type": "code",
   "execution_count": 214,
   "id": "4c066e39",
   "metadata": {},
   "outputs": [
    {
     "data": {
      "text/plain": [
       "0.8682608008056383"
      ]
     },
     "execution_count": 214,
     "metadata": {},
     "output_type": "execute_result"
    }
   ],
   "source": [
    "1-mean_squared_error(y_train,y_pred)/np.var(y_train) #r squared formula"
   ]
  },
  {
   "cell_type": "markdown",
   "id": "1c4c0dd6",
   "metadata": {},
   "source": [
    "I always enjoy thinking about the same concepts and putting them into new words, it helps me to solidify the understandnig and generalize more effectively. On an intuitive level R^2 consider an analogy: You're hiring an acrobat to entertain your guests on a yacht, and want to make sure that he's good. You know that performing on a ship is slightly more challanging since the ship is moving, meaning there's a variation as it sways from side to side as the waves come in and go. Ideally, in this situation you want a performer who's sways are lack of balance are in tandem with the ship, so it's accounted for. If for example, he loose a balance when there's no ship movement or improportionally severe with relation of the ship it might indcate he can't adapt to the performence on the water. This can be measured by R^2, and that's what i does exactly. Check out the formula."
   ]
  },
  {
   "cell_type": "code",
   "execution_count": 221,
   "id": "ad24196e",
   "metadata": {},
   "outputs": [],
   "source": [
    "lr_cv = cross_val_score(lr, water_train,y_train,\n",
    "                      scoring='neg_mean_squared_error',\n",
    "                      cv=10)"
   ]
  },
  {
   "cell_type": "code",
   "execution_count": 222,
   "id": "08b6a72b",
   "metadata": {},
   "outputs": [],
   "source": [
    "lr_rmse = np.sqrt(-lr_cv)"
   ]
  },
  {
   "cell_type": "code",
   "execution_count": 224,
   "id": "7147c18c",
   "metadata": {},
   "outputs": [],
   "source": [
    "def display_score(x):\n",
    "    print(f\"Predictions: {x}\")\n",
    "    print(f\"Mean: {np.mean(x)}\")\n",
    "    print(f\"SD: {np.std(x)}\")"
   ]
  },
  {
   "cell_type": "markdown",
   "id": "7a7977d3",
   "metadata": {},
   "source": [
    "Cross validation of linear regression model"
   ]
  },
  {
   "cell_type": "code",
   "execution_count": 225,
   "id": "2927bf06",
   "metadata": {},
   "outputs": [
    {
     "name": "stdout",
     "output_type": "stream",
     "text": [
      "Predictions: [0.1647698  0.16766237 0.16291192 0.17059624 0.1646031  0.17012123\n",
      " 0.16622809 0.16541217 0.16207979 0.16374839]\n",
      "Mean: 0.16581331075422034\n",
      "SD: 0.0027269248287950716\n"
     ]
    }
   ],
   "source": [
    "display_score(lr_rmse)"
   ]
  },
  {
   "cell_type": "markdown",
   "id": "4d5b5320",
   "metadata": {},
   "source": [
    "## (TBC) Testing Linear Regression assumptions"
   ]
  },
  {
   "cell_type": "markdown",
   "id": "87b55336",
   "metadata": {},
   "source": [
    "Even though we have a good r score it doesn't meant that the model is superb, to get a better understanding we have to evaluate the fundamental regression asumptions to see if we're using the right model for the job"
   ]
  },
  {
   "cell_type": "markdown",
   "id": "1f9df138",
   "metadata": {},
   "source": [
    "## Choosing different models"
   ]
  },
  {
   "cell_type": "markdown",
   "id": "367e79c4",
   "metadata": {},
   "source": [
    "Lets look at differnt ways I can improve the project, by selecting different models "
   ]
  },
  {
   "cell_type": "markdown",
   "id": "5c6e640e",
   "metadata": {},
   "source": [
    "#### Decision Tree Regressor"
   ]
  },
  {
   "cell_type": "code",
   "execution_count": 227,
   "id": "724afbde",
   "metadata": {},
   "outputs": [],
   "source": [
    "tree_reg = DecisionTreeRegressor()"
   ]
  },
  {
   "cell_type": "code",
   "execution_count": 228,
   "id": "29f123d1",
   "metadata": {},
   "outputs": [
    {
     "data": {
      "text/plain": [
       "DecisionTreeRegressor(ccp_alpha=0.0, criterion='mse', max_depth=None,\n",
       "                      max_features=None, max_leaf_nodes=None,\n",
       "                      min_impurity_decrease=0.0, min_impurity_split=None,\n",
       "                      min_samples_leaf=1, min_samples_split=2,\n",
       "                      min_weight_fraction_leaf=0.0, presort='deprecated',\n",
       "                      random_state=None, splitter='best')"
      ]
     },
     "execution_count": 228,
     "metadata": {},
     "output_type": "execute_result"
    }
   ],
   "source": [
    "tree_reg.fit(water_train, y_train)"
   ]
  },
  {
   "cell_type": "code",
   "execution_count": 229,
   "id": "f36e8338",
   "metadata": {},
   "outputs": [],
   "source": [
    "tr_pred = tree_reg.predict(water_train)"
   ]
  },
  {
   "cell_type": "code",
   "execution_count": 231,
   "id": "436cad3c",
   "metadata": {},
   "outputs": [],
   "source": [
    "tr_rmse = mean_squared_error(y_train, tr_pred,squared=False)"
   ]
  },
  {
   "cell_type": "code",
   "execution_count": 232,
   "id": "52c48adb",
   "metadata": {},
   "outputs": [
    {
     "data": {
      "text/plain": [
       "5.549535402427391e-05"
      ]
     },
     "execution_count": 232,
     "metadata": {},
     "output_type": "execute_result"
    }
   ],
   "source": [
    "tr_rmse"
   ]
  },
  {
   "cell_type": "markdown",
   "id": "d6a482fd",
   "metadata": {},
   "source": [
    "Very tiny, nearly zero. That's suspicious! Did the model overfit? Crossvalidation to the rescue"
   ]
  },
  {
   "cell_type": "code",
   "execution_count": 233,
   "id": "6e703467",
   "metadata": {},
   "outputs": [],
   "source": [
    "tr_cv = cross_val_score(tree_reg, water_train, y_train,\n",
    "                       scoring='neg_mean_squared_error',\n",
    "                       cv=10)"
   ]
  },
  {
   "cell_type": "code",
   "execution_count": 234,
   "id": "c2673525",
   "metadata": {},
   "outputs": [
    {
     "data": {
      "text/plain": [
       "array([-0.00026678, -0.00031461, -0.00031073, -0.00029951, -0.00020039,\n",
       "       -0.00022375, -0.00019109, -0.00021424, -0.00022491, -0.0003175 ])"
      ]
     },
     "execution_count": 234,
     "metadata": {},
     "output_type": "execute_result"
    }
   ],
   "source": [
    "tr_cv"
   ]
  },
  {
   "cell_type": "code",
   "execution_count": 235,
   "id": "57e74c62",
   "metadata": {},
   "outputs": [],
   "source": [
    "tr_rmse = np.sqrt(-tr_cv)"
   ]
  },
  {
   "cell_type": "code",
   "execution_count": 236,
   "id": "03be08d3",
   "metadata": {},
   "outputs": [
    {
     "name": "stdout",
     "output_type": "stream",
     "text": [
      "Predictions: [0.01633333 0.01773728 0.01762767 0.01730642 0.01415593 0.01495825\n",
      " 0.01382361 0.01463699 0.01499713 0.01781856]\n",
      "Mean: 0.015939516676770578\n",
      "SD: 0.0015113536143792005\n"
     ]
    }
   ],
   "source": [
    "display_score(tr_rmse)"
   ]
  },
  {
   "cell_type": "markdown",
   "id": "d21b7ffa",
   "metadata": {},
   "source": [
    "The model seems to be doing really well, I wonder if it will perform as great on the test model. Especially since I removed the outliers"
   ]
  },
  {
   "cell_type": "markdown",
   "id": "a9cd42f3",
   "metadata": {},
   "source": [
    "#### Random Forest Regressor"
   ]
  },
  {
   "cell_type": "code",
   "execution_count": 238,
   "id": "5602e83c",
   "metadata": {},
   "outputs": [],
   "source": [
    "forest_rg = RandomForestRegressor()"
   ]
  },
  {
   "cell_type": "code",
   "execution_count": 239,
   "id": "e04ead6e",
   "metadata": {},
   "outputs": [
    {
     "data": {
      "text/plain": [
       "RandomForestRegressor(bootstrap=True, ccp_alpha=0.0, criterion='mse',\n",
       "                      max_depth=None, max_features='auto', max_leaf_nodes=None,\n",
       "                      max_samples=None, min_impurity_decrease=0.0,\n",
       "                      min_impurity_split=None, min_samples_leaf=1,\n",
       "                      min_samples_split=2, min_weight_fraction_leaf=0.0,\n",
       "                      n_estimators=100, n_jobs=None, oob_score=False,\n",
       "                      random_state=None, verbose=0, warm_start=False)"
      ]
     },
     "execution_count": 239,
     "metadata": {},
     "output_type": "execute_result"
    }
   ],
   "source": [
    "forest_rg.fit(water_train, y_train)"
   ]
  },
  {
   "cell_type": "code",
   "execution_count": 240,
   "id": "02bb763e",
   "metadata": {},
   "outputs": [],
   "source": [
    "frg_pred = forest_rg.predict(water_train)"
   ]
  },
  {
   "cell_type": "code",
   "execution_count": 241,
   "id": "9811738e",
   "metadata": {},
   "outputs": [],
   "source": [
    "frg_rmse = mean_squared_error(y_train, frg_pred,\n",
    "                             squared=False)"
   ]
  },
  {
   "cell_type": "code",
   "execution_count": 242,
   "id": "3bd3d2e1",
   "metadata": {},
   "outputs": [
    {
     "data": {
      "text/plain": [
       "0.004366682483366824"
      ]
     },
     "execution_count": 242,
     "metadata": {},
     "output_type": "execute_result"
    }
   ],
   "source": [
    "frg_rmse"
   ]
  },
  {
   "cell_type": "code",
   "execution_count": 243,
   "id": "bccab114",
   "metadata": {},
   "outputs": [],
   "source": [
    "frg_cv = cross_val_score(forest_rg, water_train, y_train,\n",
    "                        scoring='neg_mean_squared_error',\n",
    "                        cv=10)"
   ]
  },
  {
   "cell_type": "code",
   "execution_count": 245,
   "id": "197747a6",
   "metadata": {},
   "outputs": [],
   "source": [
    "frg_rmse = np.sqrt(-frg_cv)"
   ]
  },
  {
   "cell_type": "code",
   "execution_count": 247,
   "id": "6da566ca",
   "metadata": {},
   "outputs": [
    {
     "name": "stdout",
     "output_type": "stream",
     "text": [
      "Predictions: [0.01242756 0.01148762 0.01408331 0.01235684 0.00929075 0.01215175\n",
      " 0.00969022 0.00998074 0.01063637 0.01431328]\n",
      "Mean: 0.011641843862940674\n",
      "SD: 0.001661818624531362\n"
     ]
    }
   ],
   "source": [
    "display_score(frg_rmse)"
   ]
  },
  {
   "cell_type": "markdown",
   "id": "956333fc",
   "metadata": {},
   "source": [
    "It seems the last model, RandomForestRegressor is the best available model among the ones I've chosen"
   ]
  },
  {
   "cell_type": "markdown",
   "id": "15c5c963",
   "metadata": {},
   "source": [
    "## Fine tuning the model"
   ]
  },
  {
   "cell_type": "markdown",
   "id": "39c29e54",
   "metadata": {},
   "source": [
    "Since I've got a model to go, I'll adjust the hyperparameters. I'd like to implement a joblib now, since training the model takes a very long time."
   ]
  },
  {
   "cell_type": "code",
   "execution_count": 249,
   "id": "e07cde1d",
   "metadata": {},
   "outputs": [
    {
     "data": {
      "text/plain": [
       "['forest_rg.pkl']"
      ]
     },
     "execution_count": 249,
     "metadata": {},
     "output_type": "execute_result"
    }
   ],
   "source": [
    "joblib.dump(forest_rg, 'forest_rg.pkl')"
   ]
  },
  {
   "cell_type": "markdown",
   "id": "883ab017",
   "metadata": {},
   "source": [
    "#### Grid Search"
   ]
  },
  {
   "cell_type": "code",
   "execution_count": 250,
   "id": "8d793bc6",
   "metadata": {},
   "outputs": [],
   "source": [
    "param_grid = [\n",
    "    {'n_estimators': [3,10,30], 'max_features': [2,4,6,8]},\n",
    "    {'bootstrap': [False], 'n_estimators': [3,10], 'max_features': [2,3,4]}\n",
    "]"
   ]
  },
  {
   "cell_type": "code",
   "execution_count": 251,
   "id": "d499efe3",
   "metadata": {},
   "outputs": [],
   "source": [
    "grid_search = GridSearchCV(forest_rg, param_grid,\n",
    "                          cv=5,\n",
    "                          scoring='neg_mean_squared_error',\n",
    "                          return_train_score=True)"
   ]
  },
  {
   "cell_type": "code",
   "execution_count": 252,
   "id": "38fe5ec7",
   "metadata": {},
   "outputs": [
    {
     "name": "stderr",
     "output_type": "stream",
     "text": [
      "C:\\Users\\Henryk-Mariusz\\anaconda3\\lib\\site-packages\\sklearn\\model_selection\\_validation.py:532: FitFailedWarning: Estimator fit failed. The score on this train-test partition for these parameters will be set to nan. Details: \n",
      "ValueError: max_features must be in (0, n_features]\n",
      "\n",
      "  warnings.warn(\"Estimator fit failed. The score on this train-test\"\n",
      "C:\\Users\\Henryk-Mariusz\\anaconda3\\lib\\site-packages\\sklearn\\model_selection\\_validation.py:532: FitFailedWarning: Estimator fit failed. The score on this train-test partition for these parameters will be set to nan. Details: \n",
      "ValueError: max_features must be in (0, n_features]\n",
      "\n",
      "  warnings.warn(\"Estimator fit failed. The score on this train-test\"\n",
      "C:\\Users\\Henryk-Mariusz\\anaconda3\\lib\\site-packages\\sklearn\\model_selection\\_validation.py:532: FitFailedWarning: Estimator fit failed. The score on this train-test partition for these parameters will be set to nan. Details: \n",
      "ValueError: max_features must be in (0, n_features]\n",
      "\n",
      "  warnings.warn(\"Estimator fit failed. The score on this train-test\"\n",
      "C:\\Users\\Henryk-Mariusz\\anaconda3\\lib\\site-packages\\sklearn\\model_selection\\_validation.py:532: FitFailedWarning: Estimator fit failed. The score on this train-test partition for these parameters will be set to nan. Details: \n",
      "ValueError: max_features must be in (0, n_features]\n",
      "\n",
      "  warnings.warn(\"Estimator fit failed. The score on this train-test\"\n",
      "C:\\Users\\Henryk-Mariusz\\anaconda3\\lib\\site-packages\\sklearn\\model_selection\\_validation.py:532: FitFailedWarning: Estimator fit failed. The score on this train-test partition for these parameters will be set to nan. Details: \n",
      "ValueError: max_features must be in (0, n_features]\n",
      "\n",
      "  warnings.warn(\"Estimator fit failed. The score on this train-test\"\n",
      "C:\\Users\\Henryk-Mariusz\\anaconda3\\lib\\site-packages\\sklearn\\model_selection\\_validation.py:532: FitFailedWarning: Estimator fit failed. The score on this train-test partition for these parameters will be set to nan. Details: \n",
      "ValueError: max_features must be in (0, n_features]\n",
      "\n",
      "  warnings.warn(\"Estimator fit failed. The score on this train-test\"\n",
      "C:\\Users\\Henryk-Mariusz\\anaconda3\\lib\\site-packages\\sklearn\\model_selection\\_validation.py:532: FitFailedWarning: Estimator fit failed. The score on this train-test partition for these parameters will be set to nan. Details: \n",
      "ValueError: max_features must be in (0, n_features]\n",
      "\n",
      "  warnings.warn(\"Estimator fit failed. The score on this train-test\"\n",
      "C:\\Users\\Henryk-Mariusz\\anaconda3\\lib\\site-packages\\sklearn\\model_selection\\_validation.py:532: FitFailedWarning: Estimator fit failed. The score on this train-test partition for these parameters will be set to nan. Details: \n",
      "ValueError: max_features must be in (0, n_features]\n",
      "\n",
      "  warnings.warn(\"Estimator fit failed. The score on this train-test\"\n",
      "C:\\Users\\Henryk-Mariusz\\anaconda3\\lib\\site-packages\\sklearn\\model_selection\\_validation.py:532: FitFailedWarning: Estimator fit failed. The score on this train-test partition for these parameters will be set to nan. Details: \n",
      "ValueError: max_features must be in (0, n_features]\n",
      "\n",
      "  warnings.warn(\"Estimator fit failed. The score on this train-test\"\n",
      "C:\\Users\\Henryk-Mariusz\\anaconda3\\lib\\site-packages\\sklearn\\model_selection\\_validation.py:532: FitFailedWarning: Estimator fit failed. The score on this train-test partition for these parameters will be set to nan. Details: \n",
      "ValueError: max_features must be in (0, n_features]\n",
      "\n",
      "  warnings.warn(\"Estimator fit failed. The score on this train-test\"\n",
      "C:\\Users\\Henryk-Mariusz\\anaconda3\\lib\\site-packages\\sklearn\\model_selection\\_validation.py:532: FitFailedWarning: Estimator fit failed. The score on this train-test partition for these parameters will be set to nan. Details: \n",
      "ValueError: max_features must be in (0, n_features]\n",
      "\n",
      "  warnings.warn(\"Estimator fit failed. The score on this train-test\"\n",
      "C:\\Users\\Henryk-Mariusz\\anaconda3\\lib\\site-packages\\sklearn\\model_selection\\_validation.py:532: FitFailedWarning: Estimator fit failed. The score on this train-test partition for these parameters will be set to nan. Details: \n",
      "ValueError: max_features must be in (0, n_features]\n",
      "\n",
      "  warnings.warn(\"Estimator fit failed. The score on this train-test\"\n",
      "C:\\Users\\Henryk-Mariusz\\anaconda3\\lib\\site-packages\\sklearn\\model_selection\\_validation.py:532: FitFailedWarning: Estimator fit failed. The score on this train-test partition for these parameters will be set to nan. Details: \n",
      "ValueError: max_features must be in (0, n_features]\n",
      "\n",
      "  warnings.warn(\"Estimator fit failed. The score on this train-test\"\n",
      "C:\\Users\\Henryk-Mariusz\\anaconda3\\lib\\site-packages\\sklearn\\model_selection\\_validation.py:532: FitFailedWarning: Estimator fit failed. The score on this train-test partition for these parameters will be set to nan. Details: \n",
      "ValueError: max_features must be in (0, n_features]\n",
      "\n",
      "  warnings.warn(\"Estimator fit failed. The score on this train-test\"\n",
      "C:\\Users\\Henryk-Mariusz\\anaconda3\\lib\\site-packages\\sklearn\\model_selection\\_validation.py:532: FitFailedWarning: Estimator fit failed. The score on this train-test partition for these parameters will be set to nan. Details: \n",
      "ValueError: max_features must be in (0, n_features]\n",
      "\n",
      "  warnings.warn(\"Estimator fit failed. The score on this train-test\"\n"
     ]
    },
    {
     "data": {
      "text/plain": [
       "GridSearchCV(cv=5, error_score=nan,\n",
       "             estimator=RandomForestRegressor(bootstrap=True, ccp_alpha=0.0,\n",
       "                                             criterion='mse', max_depth=None,\n",
       "                                             max_features='auto',\n",
       "                                             max_leaf_nodes=None,\n",
       "                                             max_samples=None,\n",
       "                                             min_impurity_decrease=0.0,\n",
       "                                             min_impurity_split=None,\n",
       "                                             min_samples_leaf=1,\n",
       "                                             min_samples_split=2,\n",
       "                                             min_weight_fraction_leaf=0.0,\n",
       "                                             n_estimators=100, n_jobs=None,\n",
       "                                             oob_score=False, random_state=None,\n",
       "                                             verbose=0, warm_start=False),\n",
       "             iid='deprecated', n_jobs=None,\n",
       "             param_grid=[{'max_features': [2, 4, 6, 8],\n",
       "                          'n_estimators': [3, 10, 30]},\n",
       "                         {'bootstrap': [False], 'max_features': [2, 3, 4],\n",
       "                          'n_estimators': [3, 10]}],\n",
       "             pre_dispatch='2*n_jobs', refit=True, return_train_score=True,\n",
       "             scoring='neg_mean_squared_error', verbose=0)"
      ]
     },
     "execution_count": 252,
     "metadata": {},
     "output_type": "execute_result"
    }
   ],
   "source": [
    "grid_search.fit(water_train, y_train)"
   ]
  },
  {
   "cell_type": "markdown",
   "id": "4c11a360",
   "metadata": {},
   "source": [
    "## Feature Importance"
   ]
  },
  {
   "cell_type": "code",
   "execution_count": 255,
   "id": "2e545d4b",
   "metadata": {},
   "outputs": [],
   "source": [
    "cvres = grid_search.cv_results_"
   ]
  },
  {
   "cell_type": "code",
   "execution_count": 256,
   "id": "3aed2564",
   "metadata": {},
   "outputs": [
    {
     "name": "stdout",
     "output_type": "stream",
     "text": [
      "0.045386771698064154 {'max_features': 2, 'n_estimators': 3}\n",
      "0.028331365140515322 {'max_features': 2, 'n_estimators': 10}\n",
      "0.0239130579891043 {'max_features': 2, 'n_estimators': 30}\n",
      "0.018657225805597144 {'max_features': 4, 'n_estimators': 3}\n",
      "0.014622077348838873 {'max_features': 4, 'n_estimators': 10}\n",
      "0.0127689963217746 {'max_features': 4, 'n_estimators': 30}\n",
      "0.015708797681124768 {'max_features': 6, 'n_estimators': 3}\n",
      "0.012704429640453657 {'max_features': 6, 'n_estimators': 10}\n",
      "0.011979269833904087 {'max_features': 6, 'n_estimators': 30}\n",
      "nan {'max_features': 8, 'n_estimators': 3}\n",
      "nan {'max_features': 8, 'n_estimators': 10}\n",
      "nan {'max_features': 8, 'n_estimators': 30}\n",
      "0.038458753482940145 {'bootstrap': False, 'max_features': 2, 'n_estimators': 3}\n",
      "0.02563874582384305 {'bootstrap': False, 'max_features': 2, 'n_estimators': 10}\n",
      "0.02220329656392629 {'bootstrap': False, 'max_features': 3, 'n_estimators': 3}\n",
      "0.015884465833665495 {'bootstrap': False, 'max_features': 3, 'n_estimators': 10}\n",
      "0.016793182869198873 {'bootstrap': False, 'max_features': 4, 'n_estimators': 3}\n",
      "0.012622079471253548 {'bootstrap': False, 'max_features': 4, 'n_estimators': 10}\n"
     ]
    }
   ],
   "source": [
    "for mean_score, params in zip(cvres['mean_test_score'], cvres['params']):\n",
    "    print(np.sqrt(-mean_score), params)"
   ]
  },
  {
   "cell_type": "code",
   "execution_count": 258,
   "id": "d1f0ce2b",
   "metadata": {},
   "outputs": [],
   "source": [
    "feature_importances = grid_search.best_estimator_.feature_importances_"
   ]
  },
  {
   "cell_type": "code",
   "execution_count": 259,
   "id": "abb932b1",
   "metadata": {},
   "outputs": [
    {
     "data": {
      "text/plain": [
       "array([0.16539622, 0.57108147, 0.00192688, 0.21747898, 0.04101441,\n",
       "       0.00069754, 0.0024045 ])"
      ]
     },
     "execution_count": 259,
     "metadata": {},
     "output_type": "execute_result"
    }
   ],
   "source": [
    "feature_importances"
   ]
  },
  {
   "cell_type": "code",
   "execution_count": 260,
   "id": "2ded3813",
   "metadata": {},
   "outputs": [
    {
     "data": {
      "text/plain": [
       "[(0.571081466551948, 'o2'),\n",
       " (0.21747897988052595, 'temp'),\n",
       " (0.16539621520614867, 'density'),\n",
       " (0.04101440950074743, 'vol_anomaly'),\n",
       " (0.002404503635577798, 'pressure'),\n",
       " (0.0019268846860719673, 'depth'),\n",
       " (0.000697540538980183, 'height')]"
      ]
     },
     "execution_count": 260,
     "metadata": {},
     "output_type": "execute_result"
    }
   ],
   "source": [
    "sorted(zip(feature_importances, water_train.columns), reverse=True)"
   ]
  },
  {
   "cell_type": "code",
   "execution_count": 267,
   "id": "541aefab",
   "metadata": {},
   "outputs": [],
   "source": [
    "def see_feature_importance(X, y, estimator):\n",
    "    \"\"\"\n",
    "    imports yellowbrick library, shows a horizontal histogram with feature importances\n",
    "    args:\n",
    "        X: df of the data already prepped, ready for the model\n",
    "        y: labels\n",
    "        estimator: the instance of the model class that's being fit on the data, eg. lr = LinearRegression()\n",
    "            then pass \"lr\"\n",
    "    \"\"\"\n",
    "    feature_importance = FeatureImportances(estimator) #instantiates the grid\n",
    "    feature_importance.fit(X, y) #extracts feature_importances_\n",
    "    feature_importance.show() #displays the plot"
   ]
  },
  {
   "cell_type": "code",
   "execution_count": 266,
   "id": "e7bcfb30",
   "metadata": {},
   "outputs": [
    {
     "name": "stderr",
     "output_type": "stream",
     "text": [
      "C:\\Users\\Henryk-Mariusz\\anaconda3\\lib\\site-packages\\sklearn\\base.py:193: FutureWarning: From version 0.24, get_params will raise an AttributeError if a parameter cannot be retrieved as an instance attribute. Previously it would return None.\n",
      "  warnings.warn('From version 0.24, get_params will raise an '\n"
     ]
    },
    {
     "data": {
      "image/png": "[encoded data removed]",
      "text/plain": [
       "<Figure size 576x396 with 1 Axes>"
      ]
     },
     "metadata": {},
     "output_type": "display_data"
    }
   ],
   "source": [
    "see_feature_importance(water_train, y_train, forest_rg)"
   ]
  },
  {
   "cell_type": "markdown",
   "id": "341d808f",
   "metadata": {},
   "source": [
    "According to the visual, in exception of oxygen saturation, temperature of the water, and density the rest of the features are not contributing to the model heavily, and ca be safely removed to help with much easier to interpret the model. This is perfect because earlier I had a suspicious that some of the extra variables were highly correlated, which gives me a confidence to exclude them from the model now"
   ]
  },
  {
   "cell_type": "markdown",
   "id": "8f6d6851",
   "metadata": {},
   "source": [
    "## Evaluating the test set"
   ]
  },
  {
   "cell_type": "markdown",
   "id": "9d0d8a67",
   "metadata": {},
   "source": [
    "After all the work, it's the time to evaluate the model on the test set and see how it performs"
   ]
  },
  {
   "cell_type": "code",
   "execution_count": 299,
   "id": "48c7470e",
   "metadata": {},
   "outputs": [],
   "source": [
    "final_pred = forest_rg.predict(X_test_rdy)"
   ]
  },
  {
   "cell_type": "code",
   "execution_count": 300,
   "id": "046cd914",
   "metadata": {},
   "outputs": [],
   "source": [
    "final_rmse = mean_squared_error(y_test, final_pred,\n",
    "                               squared=False)"
   ]
  },
  {
   "cell_type": "code",
   "execution_count": 301,
   "id": "48556b35",
   "metadata": {},
   "outputs": [
    {
     "data": {
      "text/plain": [
       "0.07600905082764896"
      ]
     },
     "execution_count": 301,
     "metadata": {},
     "output_type": "execute_result"
    }
   ],
   "source": [
    "final_rmse"
   ]
  },
  {
   "cell_type": "code",
   "execution_count": 305,
   "id": "39da061e",
   "metadata": {},
   "outputs": [
    {
     "data": {
      "image/png": "[encoded data removed]",
      "text/plain": [
       "<Figure size 576x396 with 2 Axes>"
      ]
     },
     "metadata": {},
     "output_type": "display_data"
    },
    {
     "data": {
      "text/plain": [
       "<AxesSubplot:title={'center':'Residuals for RandomForestRegressor Model'}, xlabel='Predicted Value', ylabel='Residuals'>"
      ]
     },
     "execution_count": 305,
     "metadata": {},
     "output_type": "execute_result"
    }
   ],
   "source": [
    "res_plot = ResidualsPlot(forest_rg)\n",
    "\n",
    "res_plot.fit(water_train, y_train)  \n",
    "res_plot.score(X_test_rdy, y_test)  \n",
    "res_plot.show()                 "
   ]
  },
  {
   "cell_type": "markdown",
   "id": "321700b3",
   "metadata": {},
   "source": [
    "There seem that our residuals for test set are larger, more dispersed, and exhibit issues of homoscadacity with interesting patterns that suggest some underlying issues. I'd like to further understand what might have caused to display such curving patterns. Since the rmse is so small, perhaps forest regression accounts for that variation, but then again, why are residuals looking that way, and r^2 seems so... perfetct?"
   ]
  },
  {
   "cell_type": "code",
   "execution_count": 307,
   "id": "0e2af40b",
   "metadata": {},
   "outputs": [
    {
     "data": {
      "image/png": "[encoded data removed]",
      "text/plain": [
       "<Figure size 576x396 with 1 Axes>"
      ]
     },
     "metadata": {},
     "output_type": "display_data"
    },
    {
     "data": {
      "text/plain": [
       "<AxesSubplot:title={'center':'Prediction Error for RandomForestRegressor'}, xlabel='$y$', ylabel='$\\\\hat{y}$'>"
      ]
     },
     "execution_count": 307,
     "metadata": {},
     "output_type": "execute_result"
    }
   ],
   "source": [
    "pred_error = PredictionError(forest_rg)\n",
    "\n",
    "pred_error.fit(water_train, y_train)  \n",
    "pred_error.score(X_test_rdy, y_test)  \n",
    "pred_error.show()                 "
   ]
  },
  {
   "cell_type": "markdown",
   "id": "6e6a3676",
   "metadata": {},
   "source": [
    "Looking at the prediction errors we can conclude that we've done a really good job since the 45 degree line of actual fit is nearly an identical match, however, some of the residuals seem to have a trend"
   ]
  },
  {
   "cell_type": "code",
   "execution_count": null,
   "id": "d1a318a4",
   "metadata": {},
   "outputs": [],
   "source": []
  }
 ],
 "metadata": {
  "kernelspec": {
   "display_name": "Python 3 (ipykernel)",
   "language": "python",
   "name": "python3"
  },
  "language_info": {
   "codemirror_mode": {
    "name": "ipython",
    "version": 3
   },
   "file_extension": ".py",
   "mimetype": "text/x-python",
   "name": "python",
   "nbconvert_exporter": "python",
   "pygments_lexer": "ipython3",
   "version": "3.8.8"
  },
  "toc": {
   "base_numbering": 1,
   "nav_menu": {},
   "number_sections": true,
   "sideBar": true,
   "skip_h1_title": false,
   "title_cell": "Table of Contents",
   "title_sidebar": "Contents",
   "toc_cell": false,
   "toc_position": {},
   "toc_section_display": true,
   "toc_window_display": false
  }
 },
 "nbformat": 4,
 "nbformat_minor": 5
}
